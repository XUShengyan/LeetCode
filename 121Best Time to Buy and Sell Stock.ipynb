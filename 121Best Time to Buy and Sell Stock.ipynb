{
 "cells": [
  {
   "cell_type": "markdown",
   "metadata": {
    "collapsed": true,
    "pycharm": {
     "name": "#%% md\n"
    }
   },
   "source": [
    "Say you have an array for which the ith element is the price of a given stock on day i.\n",
    "\n",
    "If you were only permitted to complete at most one transaction (i.e., buy one and sell one share of the stock), design an algorithm to find the maximum profit.\n",
    "\n",
    "Note that you cannot sell a stock before you buy one.\n",
    "\n",
    "Example 1:\n",
    "\n",
    "Input: [7,1,5,3,6,4]\n",
    "Output: 5\n",
    "Explanation: Buy on day 2 (price = 1) and sell on day 5 (price = 6), profit = 6-1 = 5.\n",
    "             Not 7-1 = 6, as selling price needs to be larger than buying price.\n",
    "Example 2:\n",
    "\n",
    "Input: [7,6,4,3,1]\n",
    "Output: 0\n",
    "Explanation: In this case, no transaction is done, i.e. max profit = 0.\n",
    "\n",
    "\n"
   ]
  },
  {
   "cell_type": "code",
   "execution_count": 36,
   "outputs": [
    {
     "traceback": [
      "\u001b[1;31m---------------------------------------------------------------------------\u001b[0m",
      "\u001b[1;31mIndexError\u001b[0m                                Traceback (most recent call last)",
      "\u001b[1;32m<ipython-input-36-426470f5f5f0>\u001b[0m in \u001b[0;36m<module>\u001b[1;34m\u001b[0m\n\u001b[0;32m     18\u001b[0m \u001b[0mtestPrice\u001b[0m \u001b[1;33m=\u001b[0m \u001b[1;33m[\u001b[0m\u001b[1;36m0\u001b[0m\u001b[1;33m,\u001b[0m\u001b[1;36m0\u001b[0m\u001b[1;33m]\u001b[0m\u001b[1;33m\u001b[0m\u001b[1;33m\u001b[0m\u001b[0m\n\u001b[0;32m     19\u001b[0m \u001b[0mtestPrice\u001b[0m \u001b[1;33m=\u001b[0m\u001b[1;33m[\u001b[0m\u001b[1;33m]\u001b[0m\u001b[1;33m\u001b[0m\u001b[1;33m\u001b[0m\u001b[0m\n\u001b[1;32m---> 20\u001b[1;33m \u001b[0mearnMoney\u001b[0m \u001b[1;33m=\u001b[0m\u001b[0mtest\u001b[0m\u001b[1;33m.\u001b[0m\u001b[0mmaxProfit\u001b[0m\u001b[1;33m(\u001b[0m\u001b[0mtestPrice\u001b[0m\u001b[1;33m)\u001b[0m\u001b[1;33m\u001b[0m\u001b[1;33m\u001b[0m\u001b[0m\n\u001b[0m\u001b[0;32m     21\u001b[0m \u001b[1;33m\u001b[0m\u001b[0m\n",
      "\u001b[1;32m<ipython-input-36-426470f5f5f0>\u001b[0m in \u001b[0;36mmaxProfit\u001b[1;34m(self, prices)\u001b[0m\n\u001b[0;32m     12\u001b[0m             \u001b[1;32melse\u001b[0m\u001b[1;33m:\u001b[0m\u001b[1;33m\u001b[0m\u001b[1;33m\u001b[0m\u001b[0m\n\u001b[0;32m     13\u001b[0m                 \u001b[0mearn\u001b[0m\u001b[1;33m[\u001b[0m\u001b[0mtoday\u001b[0m\u001b[1;33m]\u001b[0m \u001b[1;33m=\u001b[0m \u001b[1;36m0\u001b[0m\u001b[1;33m\u001b[0m\u001b[1;33m\u001b[0m\u001b[0m\n\u001b[1;32m---> 14\u001b[1;33m         \u001b[0mearn\u001b[0m\u001b[1;33m[\u001b[0m\u001b[0mlastDay\u001b[0m\u001b[1;33m-\u001b[0m\u001b[1;36m1\u001b[0m\u001b[1;33m]\u001b[0m\u001b[1;33m=\u001b[0m\u001b[1;36m0\u001b[0m\u001b[1;33m\u001b[0m\u001b[1;33m\u001b[0m\u001b[0m\n\u001b[0m\u001b[0;32m     15\u001b[0m         \u001b[1;32mreturn\u001b[0m \u001b[0mmax\u001b[0m\u001b[1;33m(\u001b[0m\u001b[0mearn\u001b[0m\u001b[1;33m)\u001b[0m\u001b[1;33m\u001b[0m\u001b[1;33m\u001b[0m\u001b[0m\n\u001b[0;32m     16\u001b[0m \u001b[0mtest\u001b[0m \u001b[1;33m=\u001b[0m \u001b[0mSolution\u001b[0m\u001b[1;33m(\u001b[0m\u001b[1;33m)\u001b[0m\u001b[1;33m\u001b[0m\u001b[1;33m\u001b[0m\u001b[0m\n",
      "\u001b[1;31mIndexError\u001b[0m: list assignment index out of range"
     ],
     "ename": "IndexError",
     "evalue": "list assignment index out of range",
     "output_type": "error"
    }
   ],
   "source": [
    "class Solution:\n",
    "    def maxProfit(self, prices:list) -> int:\n",
    "        lastDay = len(prices)\n",
    "        # price is empty\n",
    "        if lastDay == 0:\n",
    "            return  0\n",
    "        \n",
    "        earn = [0 for i in range(lastDay)]           \n",
    "        for today in range(len(prices)-1):\n",
    "            nextday = today+1\n",
    "              \n",
    "            restMaxprice = max(prices[nextday:lastDay])\n",
    "                \n",
    "            if restMaxprice > prices[today]:\n",
    "                earn[today] = restMaxprice - prices[today]\n",
    "            else:\n",
    "                earn[today] = 0\n",
    "        earn[lastDay-1]=0\n",
    "        return max(earn)\n",
    "test = Solution()\n",
    "testPrice = [7,6,3,2,2,5,1]\n",
    "testPrice = [0,0]\n",
    "testPrice =[]\n",
    "earnMoney =test.maxProfit(testPrice)"
   ],
   "metadata": {
    "collapsed": false,
    "pycharm": {
     "name": "#%% origin version\n",
     "is_executing": false
    }
   }
  },
  {
   "cell_type": "code",
   "execution_count": 35,
   "outputs": [
    {
     "name": "stdout",
     "text": [
      "[0, 1, 2, 3]\n",
      "[2, 10]\n"
     ],
     "output_type": "stream"
    }
   ],
   "source": [
    "test = [i for i in range(4)]\n",
    "test[1] = 1\n",
    "print(test)\n",
    "test[len(test)-1] =10\n",
    "print(test[2:4])\n",
    "\n"
   ],
   "metadata": {
    "collapsed": false,
    "pycharm": {
     "name": "#%%\n",
     "is_executing": false
    }
   }
  },
  {
   "cell_type": "code",
   "execution_count": 37,
   "outputs": [
    {
     "name": "stdout",
     "text": [
      "0\n"
     ],
     "output_type": "stream"
    }
   ],
   "source": [
    "test = []\n",
    "print(len(test))\n"
   ],
   "metadata": {
    "collapsed": false,
    "pycharm": {
     "name": "#%%\n",
     "is_executing": false
    }
   }
  },
  {
   "cell_type": "code",
   "execution_count": 12,
   "outputs": [
    {
     "name": "stdout",
     "text": [
      "4\n"
     ],
     "output_type": "stream"
    }
   ],
   "source": [
    "class Solution:\n",
    "    def maxProfit(self, prices:list) -> int:        \n",
    "        # price is empty\n",
    "        if prices:      \n",
    "            lastDay = len(prices)\n",
    "            profitMax =0\n",
    "            for today in range(len(prices)-1):\n",
    "                nextday = today+1                  \n",
    "                restMaxprice = max(prices[nextday:lastDay])                    \n",
    "                if restMaxprice > prices[today]:\n",
    "                    profitCur = restMaxprice - prices[today]\n",
    "                    if profitCur > profitMax:\n",
    "                        profitMax = profitCur            \n",
    "            return profitMax\n",
    "        else:\n",
    "            return 0\n",
    "\n",
    "test = Solution()\n",
    "# testPrice = [7,6,3,2,2,5,1]\n",
    "# testPrice = [0,0]\n",
    "testPrice =[]\n",
    "testPrice = [3,3,3,1,2,5]\n",
    "print(test.maxProfit(testPrice))\n"
   ],
   "metadata": {
    "collapsed": false,
    "pycharm": {
     "name": "#%% no profit array\n",
     "is_executing": false
    }
   }
  },
  {
   "cell_type": "code",
   "execution_count": 17,
   "outputs": [
    {
     "name": "stdout",
     "text": [
      "3\n"
     ],
     "output_type": "stream"
    }
   ],
   "source": [
    "class Solution:\n",
    "    def maxProfit(self, prices:list) -> int:        \n",
    "        # price is empty\n",
    "        if prices:\n",
    "            maxprofit = 0\n",
    "            best_price = prices[-1]\n",
    "        \n",
    "            for i in range(len(prices)-1, -1, -1):\n",
    "                if prices[i] > best_price:\n",
    "                    best_price = prices[i]\n",
    "                if (best_price - prices[i]) > maxprofit:\n",
    "                    maxprofit = (best_price - prices[i])        \n",
    "            return maxprofit\n",
    "        else:\n",
    "            return 0\n",
    "\n",
    "test = Solution()\n",
    "testPrice = [7,6,3,2,2,5,1]\n",
    "# testPrice = [0,0]\n",
    "#testPrice =[]\n",
    "# testPrice = [3,3,3,1,2,7]\n",
    "print(test.maxProfit(testPrice))\n"
   ],
   "metadata": {
    "collapsed": false,
    "pycharm": {
     "name": "#%% different way, other's fast way\n",
     "is_executing": false
    }
   }
  },
  {
   "cell_type": "code",
   "execution_count": 19,
   "outputs": [
    {
     "name": "stdout",
     "text": [
      "6\n",
      "5\n",
      "4\n",
      "3\n",
      "2\n",
      "1\n",
      "0\n"
     ],
     "output_type": "stream"
    }
   ],
   "source": [
    "length = 7\n",
    "for i in range(length-1, -1, -1):\n",
    "    print(i)\n"
   ],
   "metadata": {
    "collapsed": false,
    "pycharm": {
     "name": "#%%\n",
     "is_executing": false
    }
   }
  }
 ],
 "metadata": {
  "kernelspec": {
   "display_name": "Python 3",
   "language": "python",
   "name": "python3"
  },
  "language_info": {
   "codemirror_mode": {
    "name": "ipython",
    "version": 2
   },
   "file_extension": ".py",
   "mimetype": "text/x-python",
   "name": "python",
   "nbconvert_exporter": "python",
   "pygments_lexer": "ipython2",
   "version": "2.7.6"
  },
  "pycharm": {
   "stem_cell": {
    "cell_type": "raw",
    "source": [],
    "metadata": {
     "collapsed": false
    }
   }
  }
 },
 "nbformat": 4,
 "nbformat_minor": 0
}