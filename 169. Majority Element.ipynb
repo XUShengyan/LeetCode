{
 "cells": [
  {
   "cell_type": "markdown",
   "metadata": {
    "collapsed": true,
    "pycharm": {
     "name": "#%% md\n"
    }
   },
   "source": [
    "* Given an array of size n, find the majority element.   \n",
    "The majority element is the element that appears more than **n/2**  times.\n",
    "You may assume that the array is non-empty and the majority element always exist in the array.  \n",
    "### Example 1:\n",
    "Input: [3,2,3]  \n",
    "Output: 3  \n",
    "### Example 2:  \n",
    "Input: [2,2,1,1,1,2,2]  \n",
    "Output: 2\n"
   ]
  },
  {
   "cell_type": "code",
   "execution_count": 21,
   "outputs": [
    {
     "name": "stdout",
     "text": [
      "raw: [1, 2, 3, 1, 2, 3, 5, 3, 3] processed 3\n"
     ],
     "output_type": "stream"
    }
   ],
   "source": [
    "from collections import defaultdict\n",
    "class Solution:\n",
    "    def majorityElement(self, nums) -> int:\n",
    "        numDict = defaultdict(list)\n",
    "        for i, v in enumerate(nums):\n",
    "            numDict[v].append(i)\n",
    "        \n",
    "        keyList = list(numDict.keys())\n",
    "        for i in range(len(keyList)):\n",
    "            if i == 0:\n",
    "                maxValue = len(numDict[keyList[i]])\n",
    "                keyValue = keyList[i]\n",
    "            else:\n",
    "                if maxValue < len(numDict[keyList[i]]):\n",
    "                    maxValue = len(numDict[keyList[i]])\n",
    "                    keyValue = keyList[i]\n",
    "        return  keyValue\n",
    "    \n",
    "test = Solution()\n",
    "test_data = [1,2,3,1,2,3,5,3,3]\n",
    "result = test.majorityElement(test_data)\n",
    "print('raw:',test_data,'processed',result)  "
   ],
   "metadata": {
    "collapsed": false,
    "pycharm": {
     "name": "#%%\n",
     "is_executing": false
    }
   }
  },
  {
   "cell_type": "markdown",
   "source": [
    "### defaultdicct() and enumerate  \n",
    "* calculating every numbers frequence"
   ],
   "metadata": {
    "collapsed": false,
    "pycharm": {
     "name": "#%% md\n"
    }
   }
  },
  {
   "cell_type": "code",
   "execution_count": 19,
   "outputs": [
    {
     "name": "stdout",
     "text": [
      "4\n",
      "3\n"
     ],
     "output_type": "stream"
    }
   ],
   "source": [
    "from collections import defaultdict\n",
    "a=[1,2,3,1,2,3,5,3,3]\n",
    "d = defaultdict(list)\n",
    "for i, v in enumerate(a):\n",
    "    d[v].append(i)\n",
    "\n",
    "keyList = list(d.keys())\n",
    "for i in range(len(keyList)):\n",
    "    if i == 0:\n",
    "        maxValue = len(d[keyList[i]])\n",
    "        keyValue = keyList[i]\n",
    "    else:\n",
    "        if maxValue < len(d[keyList[i]]):\n",
    "            maxValue = len(d[keyList[i]])\n",
    "            keyValue = keyList[i]\n",
    "            \n",
    "print(maxValue)\n",
    "print(keyValue)\n",
    "\n",
    "\n"
   ],
   "metadata": {
    "collapsed": false,
    "pycharm": {
     "name": "#%%\n",
     "is_executing": false
    }
   }
  }
 ],
 "metadata": {
  "kernelspec": {
   "display_name": "Python 3",
   "language": "python",
   "name": "python3"
  },
  "language_info": {
   "codemirror_mode": {
    "name": "ipython",
    "version": 2
   },
   "file_extension": ".py",
   "mimetype": "text/x-python",
   "name": "python",
   "nbconvert_exporter": "python",
   "pygments_lexer": "ipython2",
   "version": "2.7.6"
  },
  "pycharm": {
   "stem_cell": {
    "cell_type": "raw",
    "source": [],
    "metadata": {
     "collapsed": false
    }
   }
  }
 },
 "nbformat": 4,
 "nbformat_minor": 0
}