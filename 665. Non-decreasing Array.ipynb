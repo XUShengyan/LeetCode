{
 "cells": [
  {
   "cell_type": "markdown",
   "metadata": {
    "collapsed": true,
    "pycharm": {
     "name": "#%% md\n"
    }
   },
   "source": [
    "your task is to check if it could become **non-decreasing**\n",
    "by *modifying at most 1 element* .<br><br>\n",
    "**Example 1**<br>\n",
    "Input: nums = [4,2,3]<br>\n",
    "Output: true<br>\n",
    "Explanation: You could modify the first 4 to 1 to get a non-decreasing array.<br><br>\n",
    "**Example 2**<br>\n",
    "Input: nums = [4,2,1]<br>\n",
    "Output: false<br>\n",
    "Explanation: You can't get a non-decreasing array by modify at most one element.<br>"
   ]
  },
  {
   "cell_type": "code",
   "execution_count": 4,
   "outputs": [
    {
     "name": "stdout",
     "text": [
      "raw: [3, 4, 2, 3] processed False\n"
     ],
     "output_type": "stream"
    }
   ],
   "source": [
    "class Solution:\n",
    "    def checkPossibility_bruteForce(self, nums) -> bool:        \n",
    "         def judgeNonDecressing(nums):\n",
    "            for i in range(len(nums)-1):\n",
    "                if nums[i] > nums[i+1]:\n",
    "                    return False\n",
    "            return True\n",
    "         numsCopy = nums\n",
    "         for i in range(len(nums)):\n",
    "            old_ai = nums[i]\n",
    "            numsCopy[i] = numsCopy[i-1] if i > 0 else float('-inf')\n",
    "            if judgeNonDecressing(numsCopy):\n",
    "                return True\n",
    "            numsCopy[i] = old_ai\n",
    "\n",
    "         return False\n",
    "        \n",
    "    \n",
    "    \n",
    "test = Solution()\n",
    "#test_data = [4,2,1] # False,decreasing\n",
    "#test_data = [4,2,3] # True, Non-decreasing\n",
    "#test_data = [2,2,2] # True\n",
    "#test_data = [2] # True\n",
    "test_data = [3,4,2,3] # False\n",
    "result = test.checkPossibility_bruteForce(test_data)\n",
    "print('raw:',test_data,'processed',result)  "
   ],
   "metadata": {
    "collapsed": false,
    "pycharm": {
     "name": "#%%\n",
     "is_executing": false
    }
   }
  },
  {
   "cell_type": "markdown",
   "source": [
    "Not correct in some sample"
   ],
   "metadata": {
    "collapsed": false,
    "pycharm": {
     "name": "#%% md\n"
    }
   }
  },
  {
   "cell_type": "code",
   "execution_count": 3,
   "outputs": [
    {
     "name": "stdout",
     "text": [
      "raw: [2, 3, 4, 3, 3] processed True\n"
     ],
     "output_type": "stream"
    }
   ],
   "source": [
    "class Solution:\n",
    "  def checkPossibility_gradient(self, nums) -> bool:       \n",
    "    count =0    \n",
    "    for i in range(len(nums)-1):\n",
    "        dif = nums[i+1] - nums[i]\n",
    "        if dif < 0:\n",
    "            count= count+1\n",
    "            for j in range(i+2,len(nums)):\n",
    "                dif = nums[j] -nums[i]\n",
    "                if dif<= -2:\n",
    "                    return False    \n",
    "    return True\n",
    "      \n",
    "test = Solution()               \n",
    "test_data = [3,4,2,3] # False\n",
    "test_data = [2,3,4,1,3] # False\n",
    "test_data = [2,3,4,3,2] # False\n",
    "test_data = [2,3,4,3,3] # True\n",
    "result = test.checkPossibility_gradient(test_data)\n",
    "print('raw:',test_data,'processed',result)           \n",
    "\n"
   ],
   "metadata": {
    "collapsed": false,
    "pycharm": {
     "name": "#%%\n",
     "is_executing": false
    }
   }
  },
  {
   "cell_type": "markdown",
   "source": [
    "### Consider 3 Examples \n",
    "**E1:** 4,2,3   |4    \n",
    "**E2:** -1,4,2,3      |4  Condition: -1: 2  \n",
    "**E3:** 2,3,3,2,4     |3, Condition: 3 : 2 \n",
    "\n",
    "### Miss one situation\n",
    "**E4:** [2,3,4,3,3]  | 4, Condition:3=3"
   ],
   "metadata": {
    "collapsed": false,
    "pycharm": {
     "name": "#%% md\n"
    }
   }
  },
  {
   "cell_type": "code",
   "execution_count": 5,
   "outputs": [
    {
     "name": "stdout",
     "text": [
      "raw: [2, 3, 4, 3, 3] processed False\n"
     ],
     "output_type": "stream"
    }
   ],
   "source": [
    "class Solution:\n",
    "  def checkPossibility(self, nums) -> bool:       \n",
    "    numsLen = len(nums)\n",
    "    if numsLen <= 2:\n",
    "        return True\n",
    "    for i in range(numsLen-1):\n",
    "        if nums[i] > nums[i+1]:\n",
    "            # E1\n",
    "            if i ==0:\n",
    "                nums[i] = nums[i+1]\n",
    "                break\n",
    "            # E2 and E4, but if no '=', still correct\n",
    "            elif i != 0 and nums[i-1] <= nums[i+1]:\n",
    "                nums[i] = nums[i+1]\n",
    "                break\n",
    "            # E3\n",
    "            elif i != 0 and nums[i-1] > nums[i+1]:\n",
    "                nums[i+1] = nums[i]\n",
    "                break\n",
    "        for i in range(numsLen -1):\n",
    "            if nums[i]> nums[i+1]:\n",
    "                return False\n",
    "        return True\n",
    "            \n",
    "    return True  \n",
    "\n",
    "test = Solution()               \n",
    "test_data = [3,4,2,3] # False\n",
    "test_data = [2,3,4,1,3] # False\n",
    "test_data = [2,3,4,3,2] # False\n",
    "test_data = [2,3,4,3,3] # True\n",
    "result = test.checkPossibility(test_data)\n",
    "print('raw:',test_data,'processed',result)   \n"
   ],
   "metadata": {
    "collapsed": false,
    "pycharm": {
     "name": "#%%\n",
     "is_executing": false
    }
   }
  }
 ],
 "metadata": {
  "kernelspec": {
   "display_name": "Python 3",
   "language": "python",
   "name": "python3"
  },
  "language_info": {
   "codemirror_mode": {
    "name": "ipython",
    "version": 2
   },
   "file_extension": ".py",
   "mimetype": "text/x-python",
   "name": "python",
   "nbconvert_exporter": "python",
   "pygments_lexer": "ipython2",
   "version": "2.7.6"
  },
  "pycharm": {
   "stem_cell": {
    "cell_type": "raw",
    "source": [],
    "metadata": {
     "collapsed": false
    }
   }
  }
 },
 "nbformat": 4,
 "nbformat_minor": 0
}