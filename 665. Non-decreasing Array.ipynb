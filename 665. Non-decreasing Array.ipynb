{
 "cells": [
  {
   "cell_type": "markdown",
   "metadata": {
    "collapsed": true,
    "pycharm": {
     "name": "#%% md\n"
    }
   },
   "source": [
    "your task is to check if it could become **non-decreasing**\n",
    "by *modifying at most 1 element* .<br><br>\n",
    "**Example 1**<br>\n",
    "Input: nums = [4,2,3]<br>\n",
    "Output: true<br>\n",
    "Explanation: You could modify the first 4 to 1 to get a non-decreasing array.<br><br>\n",
    "**Example 2**<br>\n",
    "Input: nums = [4,2,1]<br>\n",
    "Output: false<br>\n",
    "Explanation: You can't get a non-decreasing array by modify at most one element.<br>"
   ]
  },
  {
   "cell_type": "code",
   "execution_count": 14,
   "outputs": [
    {
     "name": "stdout",
     "text": [
      "raw: [3, 4, 2, 3] processed True\n"
     ],
     "output_type": "stream"
    }
   ],
   "source": [
    "class Solution:\n",
    "    def checkPossibility_loop(self, nums) -> bool:\n",
    "        flag = False # decreasing\n",
    "        if len(nums) >1:\n",
    "            for i in range(len(nums)-1):\n",
    "                if nums[i] < nums[i+1]:\n",
    "                    flag = True # Non-decreasing\n",
    "                    return flag\n",
    "                    break\n",
    "            return flag\n",
    "        else:\n",
    "            return True\n",
    "    \n",
    "test = Solution()\n",
    "#test_data = [4,2,1] # False,decreasing\n",
    "#test_data = [4,2,3] # True, Non-decreasing\n",
    "#test_data = [2,2,2] # True\n",
    "#test_data = [2] # True\n",
    "test_data = [3,4,2,3] # False\n",
    "result = test.checkPossibility_loop(test_data)\n",
    "print('raw:',test_data,'processed',result)  \n"
   ],
   "metadata": {
    "collapsed": false,
    "pycharm": {
     "name": "#%%\n",
     "is_executing": false
    }
   }
  }
 ],
 "metadata": {
  "kernelspec": {
   "display_name": "Python 3",
   "language": "python",
   "name": "python3"
  },
  "language_info": {
   "codemirror_mode": {
    "name": "ipython",
    "version": 2
   },
   "file_extension": ".py",
   "mimetype": "text/x-python",
   "name": "python",
   "nbconvert_exporter": "python",
   "pygments_lexer": "ipython2",
   "version": "2.7.6"
  },
  "pycharm": {
   "stem_cell": {
    "cell_type": "raw",
    "source": [],
    "metadata": {
     "collapsed": false
    }
   }
  }
 },
 "nbformat": 4,
 "nbformat_minor": 0
}