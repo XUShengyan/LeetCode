{
 "cells": [
  {
   "cell_type": "markdown",
   "metadata": {
    "collapsed": true,
    "pycharm": {
     "name": "#%% md\n"
    }
   },
   "source": [
    "Given a non-negative integer, you could swap two digits at most once to get the maximum valued number. Return the maximum valued number you could get.\n",
    "\n",
    "Example 1:\n",
    "Input: 2736\n",
    "Output: 7236\n",
    "Explanation: Swap the number 2 and the number 7.\n",
    "\n",
    "Example 2:\n",
    "Input: 9973\n",
    "Output: 9973\n",
    "Explanation: No swap.\n",
    "Note:\n",
    "The given number is in the range [0, 108]\n",
    "\n"
   ]
  },
  {
   "cell_type": "code",
   "execution_count": 9,
   "outputs": [
    {
     "name": "stdout",
     "text": [
      "9973\n",
      "9973\n"
     ],
     "output_type": "stream"
    }
   ],
   "source": [
    "class Solution:\n",
    "    def maximumSwap(self, num: int) -> int:\n",
    "        if num > 11:            \n",
    "            value_list = list(map(int, str(value)))\n",
    "            \n",
    "            pass\n",
    "        else:\n",
    "            return num\n",
    "\n",
    "    def maximumSwap_bruteForce(self, num):\n",
    "        A = list(str(num))\n",
    "        ans = A[:]\n",
    "        for i in range(len(A)):\n",
    "            for j in range(i+1, len(A)):\n",
    "                A[i], A[j] = A[j], A[i]\n",
    "                if A > ans: \n",
    "                    ans = A[:]\n",
    "                A[i], A[j] = A[j], A[i]\n",
    "    \n",
    "        return int(\"\".join(ans)) \n",
    "    \n",
    "    def maximumSwap_restMax(self, num):\n",
    "        A = list(str(num))\n",
    "        A_reverse = A[:]\n",
    "        ans = A[:]\n",
    "        A_reverse.reverse()\n",
    "        for i in range(len(A)-1):\n",
    "            if len(A)>2:\n",
    "                if A[i] < max(A[(i+1):(len(A))]):\n",
    "                    maxValue = max(A[(i+1):(len(A))])\n",
    "                    maxValueIndex = A_reverse.index(maxValue)\n",
    "                    ans[i]= A_reverse[maxValueIndex]\n",
    "                    ans[len(A)-1-maxValueIndex] = A[i]\n",
    "                   \n",
    "                    break\n",
    "            else:\n",
    "                if  A_reverse> A: \n",
    "                    ans = A_reverse\n",
    "        return  int(\"\".join(ans))     \n",
    "test = Solution()\n",
    "test_data = 1234\n",
    "test_data = 9919  # 9991\n",
    "test_data = 1909  # 9901\n",
    "test_data = 213 # 9901\n",
    "test_data = 9973 # 9901\n",
    "\n",
    "result = test.maximumSwap_bruteForce(test_data)\n",
    "print(result)\n",
    "result = test.maximumSwap_restMax(test_data)\n",
    "print(result)\n"
   ],
   "metadata": {
    "collapsed": false,
    "pycharm": {
     "name": "#%%\n",
     "is_executing": false
    }
   }
  },
  {
   "cell_type": "code",
   "execution_count": 2,
   "outputs": [
    {
     "name": "stdout",
     "text": [
      "0 one\n",
      "1 two\n",
      "2 three\n",
      "dict['Name']:  Runoob\n",
      "dict['Age']:  7\n",
      "END\n"
     ],
     "output_type": "stream"
    }
   ],
   "source": [
    "seasons = ['Spring', 'Summer', 'Fall', 'Winter']\n",
    "a = enumerate(seasons)\n",
    "\n",
    "value = 10\n",
    "v_string = str(value)\n",
    "\n",
    "seq = ['one', 'two', 'three']\n",
    "for i, element in enumerate(seq):\n",
    "    print(i, seq[i])\n",
    "\n",
    "# dictionary\n",
    "dict = {'Name': 'Runoob', 'Age': 7, 'Class': 'First'} \n",
    "print (\"dict['Name']: \", dict['Name'])\n",
    "print (\"dict['Age']: \", dict['Age'])\n",
    "\n",
    "# number to string, every position\n",
    "value =123\n",
    "value_list = list(map(int, str(value)))\n",
    "value_list2 = list(str(value))\n",
    "max_position = max(value_list)\n",
    "value_combine = value_list[:]\n",
    "value_combine2 = value_list2[:]\n",
    "print('END')"
   ],
   "metadata": {
    "collapsed": false,
    "pycharm": {
     "name": "#%%\n",
     "is_executing": false
    }
   }
  },
  {
   "cell_type": "code",
   "execution_count": 15,
   "outputs": [
    {
     "name": "stdout",
     "text": [
      "['1', '0', '9']\n",
      "1 0\n",
      "1 0\n"
     ],
     "output_type": "stream"
    }
   ],
   "source": [
    "num = 109\n",
    "num_str = str(109)\n",
    "str_list = list(num_str)\n",
    "print(str_list)\n",
    "print(str_list[0],str_list[1])\n",
    "# the use of Comma ,\n",
    "a,b = str_list[0],str_list[1]\n",
    "print(a,b)"
   ],
   "metadata": {
    "collapsed": false,
    "pycharm": {
     "name": "#%% test step\n",
     "is_executing": false
    }
   }
  }
 ],
 "metadata": {
  "kernelspec": {
   "display_name": "Python 3",
   "language": "python",
   "name": "python3"
  },
  "language_info": {
   "codemirror_mode": {
    "name": "ipython",
    "version": 2
   },
   "file_extension": ".py",
   "mimetype": "text/x-python",
   "name": "python",
   "nbconvert_exporter": "python",
   "pygments_lexer": "ipython2",
   "version": "2.7.6"
  },
  "pycharm": {
   "stem_cell": {
    "cell_type": "raw",
    "source": [],
    "metadata": {
     "collapsed": false
    }
   }
  }
 },
 "nbformat": 4,
 "nbformat_minor": 0
}