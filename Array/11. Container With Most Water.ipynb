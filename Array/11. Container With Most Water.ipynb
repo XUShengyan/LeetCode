{
 "cells": [
  {
   "cell_type": "markdown",
   "metadata": {
    "collapsed": true,
    "pycharm": {
     "name": "#%% md\n"
    }
   },
   "source": [
    "![avatar](https://s3-lc-upload.s3.amazonaws.com/uploads/2018/07/17/question_11.jpg)\n",
    "\n",
    "## Example\n",
    "Input: [1,8,6,2,5,4,8,3,7]  \n",
    "Output: 49"
   ]
  },
  {
   "cell_type": "markdown",
   "source": [
    "### Brute Force "
   ],
   "metadata": {
    "collapsed": false,
    "pycharm": {
     "name": "#%% md\n"
    }
   }
  },
  {
   "cell_type": "code",
   "execution_count": 2,
   "outputs": [
    {
     "name": "stdout",
     "text": [
      "49\n"
     ],
     "output_type": "stream"
    }
   ],
   "source": [
    "class Solution:\n",
    "    def maxArea_bruteForce(self, height) -> int:\n",
    "        heightLen = len(height)\n",
    "        maxArea=0\n",
    "        for i in range(heightLen-1):            \n",
    "            for j in range(i+1,heightLen):\n",
    "                area = min(height[i],height[j]) * (j-i)\n",
    "                if area > maxArea:\n",
    "                    maxArea = area\n",
    "        return  maxArea\n",
    "\n",
    "test = Solution()\n",
    "testData = [1,8,6,2,5,4,8,3,7] # 49\n",
    "print(test.maxArea_bruteForce(testData))"
   ],
   "metadata": {
    "collapsed": false,
    "pycharm": {
     "name": "#%%\n",
     "is_executing": false
    }
   }
  },
  {
   "cell_type": "markdown",
   "source": [
    "### Double pointers\n",
    "* move lower height pointer"
   ],
   "metadata": {
    "collapsed": false
   }
  },
  {
   "cell_type": "code",
   "execution_count": 7,
   "outputs": [
    {
     "name": "stdout",
     "text": [
      "300\n"
     ],
     "output_type": "stream"
    }
   ],
   "source": [
    "class Solution:\n",
    "    def maxArea(self, height) -> int:\n",
    "        heightLen = len(height)\n",
    "        i,j, maxArea = 0, heightLen-1,0\n",
    "        while i < j:\n",
    "            if height[i]<height[j]:\n",
    "                area = min(height[i],height[j]) * (j-i)\n",
    "                maxArea = max(maxArea,area)\n",
    "                i = i + 1\n",
    "            else:\n",
    "                area = min(height[i],height[j]) * (j-i)\n",
    "                maxArea = max(maxArea,area)\n",
    "                j = j - 1\n",
    "        return  maxArea\n",
    "test = Solution()\n",
    "testData = [1,8,6,2,5,4,8,3,7] # 49\n",
    "testData = [1,4,2,5,1]\n",
    "testData = [1,100,100,1,100,4,1]\n",
    "print(test.maxArea(testData))                \n",
    "            \n",
    "        \n",
    "        "
   ],
   "metadata": {
    "collapsed": false,
    "pycharm": {
     "name": "#%%\n",
     "is_executing": false
    }
   }
  },
  {
   "cell_type": "code",
   "execution_count": 1,
   "outputs": [],
   "source": [
    "i,j = 1,2\n",
    "\n"
   ],
   "metadata": {
    "collapsed": false,
    "pycharm": {
     "name": "#%%\n",
     "is_executing": false
    }
   }
  }
 ],
 "metadata": {
  "kernelspec": {
   "display_name": "Python 3",
   "language": "python",
   "name": "python3"
  },
  "language_info": {
   "codemirror_mode": {
    "name": "ipython",
    "version": 2
   },
   "file_extension": ".py",
   "mimetype": "text/x-python",
   "name": "python",
   "nbconvert_exporter": "python",
   "pygments_lexer": "ipython2",
   "version": "2.7.6"
  },
  "pycharm": {
   "stem_cell": {
    "cell_type": "raw",
    "source": [],
    "metadata": {
     "collapsed": false
    }
   }
  }
 },
 "nbformat": 4,
 "nbformat_minor": 0
}