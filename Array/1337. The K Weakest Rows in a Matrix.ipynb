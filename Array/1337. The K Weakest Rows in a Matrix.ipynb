{
 "cells": [
  {
   "cell_type": "markdown",
   "metadata": {
    "collapsed": true,
    "pycharm": {
     "name": "#%% md\n"
    }
   },
   "source": [
    "### Description\n",
    "Given a m * n matrix mat of ones (representing soldiers) and zeros (representing civilians), return the indexes of the k weakest rows in the matrix ordered from the weakest to the strongest.\n",
    "\n",
    "A row i is weaker than row j, if the number of soldiers in row i is less than the number of soldiers in row j, or they have the same number of soldiers but i is less than j. Soldiers are always stand in the frontier of a row, that is, always ones may appear first and then zeros."
   ]
  },
  {
   "cell_type": "markdown",
   "source": [
    "### Brute way\n",
    "#### Error in one test data"
   ],
   "metadata": {
    "collapsed": false,
    "pycharm": {
     "name": "#%% md\n"
    }
   }
  },
  {
   "cell_type": "code",
   "execution_count": 4,
   "outputs": [
    {
     "name": "stdout",
     "text": [
      "[2, 0, 3]\n",
      "answer=[0] [3]\n"
     ],
     "output_type": "stream"
    }
   ],
   "source": [
    "class Solution:\n",
    "    def kWeakestRows(self, mat, k: int):\n",
    "        rowNum = len(mat)\n",
    "        if not rowNum:\n",
    "            return False\n",
    "        colNum = len(mat[0])\n",
    "        rowSum = [0]*colNum\n",
    "        for i in  range(rowNum):\n",
    "            for j in range(colNum):\n",
    "                rowSum[i] = mat[i][j] + rowSum[i]\n",
    "                \n",
    "        rowSum_sorted=sorted(enumerate(rowSum), key=lambda x:x[1])\n",
    "        ans=[x[0] for x in rowSum_sorted]\n",
    "      \n",
    "        return ans[0:k]        \n",
    "        \n",
    "test = Solution()\n",
    "mat =[[1,1,0,0,0],\n",
    " [1,1,1,1,0],\n",
    " [1,0,0,0,0],\n",
    " [1,1,0,0,0],\n",
    " [1,1,1,1,1]]\n",
    "k = 3\n",
    "print(test.kWeakestRows(mat,k))\n",
    "\n",
    "mat = [[1,1,1,1,1,1],[1,1,1,1,1,1],[1,1,1,1,1,1]]\n",
    "k=1\n",
    "print('answer=[0]',test.kWeakestRows(mat,k))"
   ],
   "metadata": {
    "collapsed": false,
    "pycharm": {
     "name": "#%%\n",
     "is_executing": false
    }
   }
  },
  {
   "cell_type": "markdown",
   "source": [
    "### Brute way 2\n",
    "#### Accept"
   ],
   "metadata": {
    "collapsed": false
   }
  },
  {
   "cell_type": "code",
   "execution_count": 5,
   "outputs": [
    {
     "name": "stdout",
     "text": [
      "answer=[0] [0]\n"
     ],
     "output_type": "stream"
    }
   ],
   "source": [
    "class Solution:\n",
    "    def kWeakestRows(self, mat, k: int):\n",
    "        rowSum = [sum(line) for line in mat]\n",
    "        rowSum_sorted=sorted(enumerate(rowSum), key=lambda x:x[1])\n",
    "        ans=[x[0] for x in rowSum_sorted]\n",
    "        return ans[0:k]    \n",
    "    \n",
    "test = Solution()\n",
    "mat = [[1,1,1,1,1,1],[1,1,1,1,1,1],[1,1,1,1,1,1]]\n",
    "k=1\n",
    "print('answer=[0]',test.kWeakestRows(mat,k))"
   ],
   "metadata": {
    "collapsed": false,
    "pycharm": {
     "name": "#%%\n",
     "is_executing": false
    }
   }
  },
  {
   "cell_type": "markdown",
   "source": [
    "### Brute way 3\n",
    "#### Accept"
   ],
   "metadata": {
    "collapsed": false
   }
  },
  {
   "cell_type": "code",
   "execution_count": 6,
   "outputs": [
    {
     "name": "stdout",
     "text": [
      "answer=[0] [0]\n"
     ],
     "output_type": "stream"
    }
   ],
   "source": [
    "class Solution:\n",
    "    def kWeakestRows(self, mat, k: int):\n",
    "        n = len(mat)\n",
    "        power = [sum(line) for line in mat]\n",
    "        ans = list(range(n))\n",
    "        ans.sort(key=lambda i: (power[i], i))\n",
    "        return ans[0:k]\n",
    "    \n",
    "test = Solution()\n",
    "mat = [[1,1,1,1,1,1],[1,1,1,1,1,1],[1,1,1,1,1,1]]\n",
    "k=1\n",
    "print('answer=[0]',test.kWeakestRows(mat,k))\n"
   ],
   "metadata": {
    "collapsed": false,
    "pycharm": {
     "name": "#%%\n",
     "is_executing": false
    }
   }
  },
  {
   "cell_type": "markdown",
   "source": [
    "### Python test"
   ],
   "metadata": {
    "collapsed": false
   }
  },
  {
   "cell_type": "code",
   "execution_count": 19,
   "outputs": [
    {
     "name": "stdout",
     "text": [
      "[1, 1, 0, 0, 0]\n",
      "[1, 1, 1, 1, 0]\n",
      "[1, 0, 0, 0, 0]\n",
      "[1, 1, 0, 0, 0]\n",
      "[1, 1, 1, 1, 1]\n",
      "0 [1, 1, 0, 0, 0]\n",
      "1 [1, 1, 1, 1, 0]\n",
      "2 [1, 0, 0, 0, 0]\n",
      "3 [1, 1, 0, 0, 0]\n",
      "4 [1, 1, 1, 1, 1]\n",
      "[[1, 1, 0, 0, 0], [1, 1, 1, 1, 0], [1, 0, 0, 0, 0], [1, 1, 0, 0, 0], [1, 1, 1, 1, 1]]\n",
      "[2, 4, 1, 2, 5]\n"
     ],
     "output_type": "stream"
    }
   ],
   "source": [
    "mat =[[1,1,0,0,0],\n",
    " [1,1,1,1,0],\n",
    " [1,0,0,0,0],\n",
    " [1,1,0,0,0],\n",
    " [1,1,1,1,1]]\n",
    "\n",
    "for x in mat:\n",
    "    print(x)\n",
    "    \n",
    "for index,x in enumerate(mat):\n",
    "    print(index,x)\n",
    "\n",
    "value = [x for x in mat]\n",
    "print(value)\n",
    "\n",
    "value = [sum(x) for x in mat]\n",
    "print(value)\n",
    "\n"
   ],
   "metadata": {
    "collapsed": false,
    "pycharm": {
     "name": "#%%\n",
     "is_executing": false
    }
   }
  }
 ],
 "metadata": {
  "kernelspec": {
   "display_name": "Python 3",
   "language": "python",
   "name": "python3"
  },
  "language_info": {
   "codemirror_mode": {
    "name": "ipython",
    "version": 2
   },
   "file_extension": ".py",
   "mimetype": "text/x-python",
   "name": "python",
   "nbconvert_exporter": "python",
   "pygments_lexer": "ipython2",
   "version": "2.7.6"
  },
  "pycharm": {
   "stem_cell": {
    "cell_type": "raw",
    "source": [],
    "metadata": {
     "collapsed": false
    }
   }
  }
 },
 "nbformat": 4,
 "nbformat_minor": 0
}