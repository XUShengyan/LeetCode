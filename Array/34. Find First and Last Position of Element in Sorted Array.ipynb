{
 "cells": [
  {
   "cell_type": "markdown",
   "metadata": {
    "collapsed": true,
    "pycharm": {
     "name": "#%% md\n"
    }
   },
   "source": [
    "### Description  \n",
    "Given an array of integers nums sorted in **ascending order**, find the starting and ending position of a given target value.  \n",
    "\n",
    "Your algorithm's runtime complexity must be in the order of O(log n).\n",
    "\n",
    "If the target is not found in the array, return [-1, -1].\n",
    "* Example 1 (Find):  \n",
    "Input: nums = [5,7,7,8,8,10], target = 8  \n",
    "Output: [3,4]  \n",
    "\n",
    "* Example 2 (Not find):  \n",
    "Input: nums = [5,7,7,8,8,10], target = 6  \n",
    "Output: [-1,-1]  \n",
    "\n"
   ]
  },
  {
   "cell_type": "code",
   "execution_count": 10,
   "outputs": [
    {
     "name": "stdout",
     "text": [
      "[0, 0]\n"
     ],
     "output_type": "stream"
    }
   ],
   "source": [
    "class Solution:\n",
    "    def searchRange_bruteScan(self, nums, target: int):\n",
    "        leftIdx, rightIndex = -1,-1\n",
    "        for i in range(len(nums)):\n",
    "            if nums[i] <= target:\n",
    "                if nums[i] == target:\n",
    "                    if leftIdx == -1:\n",
    "                        leftIdx = rightIndex = i\n",
    "                    else:\n",
    "                        rightIndex = i\n",
    "            else:\n",
    "                break\n",
    "        return [leftIdx,rightIndex]\n",
    "\n",
    "test = Solution()\n",
    "testData = [1,8,6,2,5,4,8,3,7] # \n",
    "testData = [5,7,7,7,7,7,7,7,7,7,7,7,7,7,7,8,8,8,8,8,8,8,8,8,8,8,8,9,9,9,9,9,9,9,9,9,9,9,9,9,10]\n",
    "testData = [] # [-1,-1]\n",
    "testData = [8]\n",
    "target= 8\n",
    "print(test.searchRange_bruteScan(testData,target))\n",
    "                "
   ],
   "metadata": {
    "collapsed": false,
    "pycharm": {
     "name": "#%%\n",
     "is_executing": false
    }
   }
  },
  {
   "cell_type": "markdown",
   "source": [
    "* testData = [1,8,8,9,9,9,9,9,9] \n",
    "* target= 8  \n",
    "### Method\n",
    "- Typical Binary Search （Only to describe how to use this algorithm）  \n",
    "- Finding *Left* boundary, Binary Search\n",
    "- Finding *Right* boundary, Binary Search"
   ],
   "metadata": {
    "collapsed": false,
    "pycharm": {
     "name": "#%% md\n"
    }
   }
  },
  {
   "cell_type": "markdown",
   "source": [
    "### 1. Typical binarySearch  "
   ],
   "metadata": {
    "collapsed": false
   }
  },
  {
   "cell_type": "code",
   "execution_count": 19,
   "outputs": [
    {
     "name": "stdout",
     "text": [
      "-1\n"
     ],
     "output_type": "stream"
    }
   ],
   "source": [
    "def binarySearch(nums, target):\n",
    "    left = 0 \n",
    "    right = len(nums) - 1\n",
    "    \n",
    "    # important to have '=' ! When 'target = 2' which is not in 'Nums'\n",
    "    # stop loop condition: left = right+1, [right+1 , right]\n",
    "    while left <= right: \n",
    "        mid = left + (right - left) //2\n",
    "        if nums[mid] == target:\n",
    "            return mid\n",
    "        elif  nums[mid] < target:\n",
    "            left = mid + 1\n",
    "        elif  nums[mid] > target:\n",
    "            right = mid - 1\n",
    "   \n",
    "    return -1\n",
    "\n",
    "testData = [1,7,7,8,9,9,10]\n",
    "target = 2\n",
    "print(binarySearch(testData,target))\n",
    "\n"
   ],
   "metadata": {
    "collapsed": false,
    "pycharm": {
     "name": "#%%\n",
     "is_executing": false
    }
   }
  },
  {
   "cell_type": "markdown",
   "source": [
    "### 2&3. Finding *Left* and *Right* boundary, Binary Search "
   ],
   "metadata": {
    "collapsed": false,
    "pycharm": {
     "name": "#%% md\n"
    }
   }
  },
  {
   "cell_type": "code",
   "source": [
    "class Solution:\n",
    "    def searchRange(self, nums, target: int):\n",
    "        res = [-1,-1]\n",
    "        if not nums:\n",
    "            return res\n",
    "        left, right = 0,len(nums)-1\n",
    "        \n",
    "        # stop while left == right\n",
    "        # Attention! If change this to left<=right, situation will be different\n",
    "        # find Left boundary   \n",
    "        while left< right: \n",
    "            # Left middle number\n",
    "            mid = (left+right) // 2\n",
    "            # list every situations\n",
    "            if nums[mid] == target:\n",
    "                right = mid\n",
    "            elif nums[mid] > target:\n",
    "                right = mid \n",
    "            elif nums[mid] < target:\n",
    "                left = mid +1\n",
    "                \n",
    "        # stop while 'left = right'\n",
    "        if nums[left] != target:\n",
    "            return res\n",
    "        else:\n",
    "            res[0] = left\n",
    "        \n",
    "        # find Right boundary, Version 1\n",
    "        right = len(nums)-1\n",
    "        while left < right:\n",
    "            # Right middle number !\n",
    "            mid = (left + right+1) // 2            \n",
    "            if nums[mid] == target:\n",
    "                left = mid\n",
    "            elif nums[mid] > target:\n",
    "                right = mid-1\n",
    "            elif nums[mid] < target:\n",
    "                left = mid\n",
    "        res[1] =left           \n",
    "        \n",
    "        # find Right boundary,Version 2 \n",
    "        right = len(nums)\n",
    "        while left < right:\n",
    "            # Left middle number !\n",
    "            mid = (left + right) // 2            \n",
    "            if nums[mid] == target:\n",
    "                left = mid + 1\n",
    "            elif nums[mid] > target:\n",
    "                right = mid\n",
    "            elif nums[mid] < target:\n",
    "                left = mid + 1\n",
    "        res[1] =left   \n",
    "        \n",
    "        return res\n",
    "\n",
    "\n",
    "test = Solution()                \n",
    "testData = [1,7,7,8,9,9,10]\n",
    "target = 7\n",
    "print(test.searchRange(testData,target))\n",
    "\n",
    "testData =[1]\n",
    "target = 1\n",
    "print(test.searchRange(testData,target))  "
   ],
   "metadata": {
    "collapsed": false,
    "pycharm": {
     "name": "#%% \n",
     "is_executing": false
    }
   },
   "execution_count": 4,
   "outputs": [
    {
     "name": "stdout",
     "text": [
      "[1, 3]\n",
      "[0, 1]\n"
     ],
     "output_type": "stream"
    }
   ]
  },
  {
   "cell_type": "markdown",
   "source": [
    "### Testing Area"
   ],
   "metadata": {
    "collapsed": false,
    "pycharm": {
     "name": "#%% md\n"
    }
   }
  },
  {
   "cell_type": "code",
   "execution_count": 8,
   "outputs": [
    {
     "name": "stdout",
     "text": [
      "0\n",
      "1\n"
     ],
     "output_type": "stream"
    }
   ],
   "source": [
    "print(1//2)\n",
    "print(3//2)\n",
    "\n"
   ],
   "metadata": {
    "collapsed": false,
    "pycharm": {
     "name": "#%%\n",
     "is_executing": false
    }
   }
  },
  {
   "cell_type": "code",
   "execution_count": null,
   "outputs": [],
   "source": [
    "class Solution:\n",
    "    # returns leftmost (or rightmost) index at which `target` should be inserted in sorted\n",
    "    # array `nums` via binary search.\n",
    "    def extreme_insertion_index(self, nums, target, left):\n",
    "        lo = 0\n",
    "        hi = len(nums)\n",
    "        while lo < hi:\n",
    "            mid = (lo + hi) // 2\n",
    "            if nums[mid] > target or (left and target == nums[mid]):\n",
    "                hi = mid\n",
    "            else:\n",
    "                lo = mid+1\n",
    "        return lo\n",
    "    \n",
    "    def searchRange(self, nums, target):\n",
    "        left_idx = self.extreme_insertion_index(nums, target, True)\n",
    "\n",
    "        # assert that `left_idx` is within the array bounds and that `target`\n",
    "        # is actually in `nums`.\n",
    "        if left_idx == len(nums) or nums[left_idx] != target:\n",
    "            return [-1, -1]\n",
    "\n",
    "        return [left_idx, self.extreme_insertion_index(nums, target, False)-1]\n",
    "\n",
    "testData =[6,7,8]\n",
    "target= 8\n",
    "test = Solution()\n",
    "print(test.searchRange(testData,target))"
   ],
   "metadata": {
    "collapsed": false,
    "pycharm": {
     "name": "#%%\n"
    }
   }
  }
 ],
 "metadata": {
  "kernelspec": {
   "display_name": "Python 3",
   "language": "python",
   "name": "python3"
  },
  "language_info": {
   "codemirror_mode": {
    "name": "ipython",
    "version": 2
   },
   "file_extension": ".py",
   "mimetype": "text/x-python",
   "name": "python",
   "nbconvert_exporter": "python",
   "pygments_lexer": "ipython2",
   "version": "2.7.6"
  },
  "pycharm": {
   "stem_cell": {
    "cell_type": "raw",
    "source": [],
    "metadata": {
     "collapsed": false
    }
   }
  }
 },
 "nbformat": 4,
 "nbformat_minor": 0
}