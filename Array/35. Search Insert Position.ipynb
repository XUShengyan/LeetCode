{
 "cells": [
  {
   "cell_type": "markdown",
   "metadata": {
    "collapsed": true,
    "pycharm": {
     "name": "#%% md\n"
    }
   },
   "source": [
    "### Description  \n",
    "Given a sorted array and a target value, return the index if the target is found. If not, return the index where it would be if it were inserted in order.  \n",
    "\n",
    "You may assume **no duplicates** in the array.\n",
    "\n",
    "* Example 1 (Find):  \n",
    "Input: [1,3,5,6], 5  \n",
    "Output: 2\n",
    "\n",
    "* Example 2 (Supposed to be):  \n",
    "Input: [1,3,5,6], 0  \n",
    "Output: 0"
   ]
  },
  {
   "cell_type": "markdown",
   "source": [
    "### Brute scan, Finished"
   ],
   "metadata": {
    "collapsed": false
   }
  },
  {
   "cell_type": "code",
   "execution_count": 11,
   "outputs": [
    {
     "name": "stdout",
     "text": [
      "1\n"
     ],
     "output_type": "stream"
    }
   ],
   "source": [
    "class Solution:\n",
    "    def searchInsert_brute(self, nums, target: int) -> int:\n",
    "        for i in range(len(nums)):\n",
    "            curNum = nums[i] \n",
    "            if curNum == target:\n",
    "                return i\n",
    "            if i == 0 and curNum > target:\n",
    "                return 0                 \n",
    "            elif i == (len(nums)-1) and (target > curNum):\n",
    "                return i+1\n",
    "            elif (target > curNum) and (target < nums[i+1]):\n",
    "                return i+1\n",
    "           \n",
    "test = Solution()\n",
    "testData = [1,3,5,6]\n",
    "target = 2\n",
    "print(test.searchInsert_brute(testData,target))\n",
    "\n"
   ],
   "metadata": {
    "collapsed": false,
    "pycharm": {
     "name": "#%%\n",
     "is_executing": false
    }
   }
  },
  {
   "cell_type": "markdown",
   "source": [
    "### Binary scan\n"
   ],
   "metadata": {
    "collapsed": false,
    "pycharm": {
     "name": "#%% md\n"
    }
   }
  },
  {
   "cell_type": "code",
   "execution_count": 14,
   "outputs": [
    {
     "name": "stdout",
     "text": [
      "1\n"
     ],
     "output_type": "stream"
    }
   ],
   "source": [
    "class Solution:\n",
    "    def searchInsert(self, nums, target: int) -> int:\n",
    "        left, right = 0, len(nums)-1\n",
    "        while left <= right:\n",
    "            mid = (left + right) // 2\n",
    "            if nums[mid] == target:\n",
    "                return  mid\n",
    "            elif nums[mid] > target:\n",
    "                right = mid-1\n",
    "            elif nums[mid] < target:\n",
    "                left = mid + 1\n",
    "        return left\n",
    "\n",
    "test = Solution()\n",
    "testData = [1,3,5,6]\n",
    "target = 2\n",
    "print(test.searchInsert(testData,target))"
   ],
   "metadata": {
    "collapsed": false,
    "pycharm": {
     "name": "#%%\n",
     "is_executing": false
    }
   }
  }
 ],
 "metadata": {
  "kernelspec": {
   "display_name": "Python 3",
   "language": "python",
   "name": "python3"
  },
  "language_info": {
   "codemirror_mode": {
    "name": "ipython",
    "version": 2
   },
   "file_extension": ".py",
   "mimetype": "text/x-python",
   "name": "python",
   "nbconvert_exporter": "python",
   "pygments_lexer": "ipython2",
   "version": "2.7.6"
  },
  "pycharm": {
   "stem_cell": {
    "cell_type": "raw",
    "source": [],
    "metadata": {
     "collapsed": false
    }
   }
  }
 },
 "nbformat": 4,
 "nbformat_minor": 0
}