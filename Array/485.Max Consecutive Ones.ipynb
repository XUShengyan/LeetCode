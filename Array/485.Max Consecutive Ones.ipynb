{
 "cells": [
  {
   "cell_type": "markdown",
   "metadata": {
    "collapsed": true,
    "pycharm": {
     "name": "#%% md\n"
    }
   },
   "source": [
    "Given a binary array, find the maximum number of consecutive 1s in this array.\n",
    "\n",
    "Example 1:\n",
    "Input: [1,1,0,1,1,1]\n",
    "\n",
    "Output: 3\n",
    "\n",
    "Explanation: The first two digits or the last three digits are consecutive 1s.\n",
    "    The maximum number of consecutive 1s is 3.\n",
    "Note:\n",
    "\n",
    "The input array will only contain 0 and 1.\n",
    "The length of input array is a positive integer and will not exceed 10,000\n",
    "\n"
   ]
  },
  {
   "cell_type": "code",
   "execution_count": 52,
   "outputs": [
    {
     "name": "stdout",
     "text": [
      "4\n",
      "7\n",
      "0\n",
      "1\n"
     ],
     "output_type": "stream"
    }
   ],
   "source": [
    "class Solution:\n",
    "    def findMaxConsecutiveOnes(self, nums) -> int:\n",
    "        maxNum =0\n",
    "        curMaxNum =0\n",
    "        flag =0      \n",
    "            \n",
    "        for i in range(len(nums)):\n",
    "            if nums[i] ==1 :\n",
    "                curMaxNum = curMaxNum +1\n",
    "                # if this number is end of list\n",
    "                if i+1 >= len(nums):\n",
    "                    flag =1\n",
    "            # if number change from 1 to 0\n",
    "            elif nums[i] ==0 & curMaxNum !=1:\n",
    "                flag =1\n",
    "                \n",
    "            # if finish check part of data \n",
    "            if flag ==1:   \n",
    "                 if curMaxNum > maxNum:\n",
    "                    maxNum =curMaxNum\n",
    "                    curMaxNum =0\n",
    "                    flag = 0\n",
    "                 else:\n",
    "                    curMaxNum=0\n",
    "                    flag =0\n",
    "                    \n",
    "            \n",
    "        return maxNum \n",
    "\n",
    "\n",
    "\n",
    "test = Solution()\n",
    "print(test.findMaxConsecutiveOnes([1,1,0,1,1,1,1,0,1,1,1]))\n",
    "\n",
    "print(test.findMaxConsecutiveOnes([0,0,1,1,1,1,1,1,1])) \n",
    "print(test.findMaxConsecutiveOnes([0])) \n",
    "print(test.findMaxConsecutiveOnes([1]))  \n",
    "\n"
   ],
   "metadata": {
    "collapsed": false,
    "pycharm": {
     "name": "#%%\n",
     "is_executing": false
    }
   }
  }
 ],
 "metadata": {
  "kernelspec": {
   "display_name": "Python 3",
   "language": "python",
   "name": "python3"
  },
  "language_info": {
   "codemirror_mode": {
    "name": "ipython",
    "version": 2
   },
   "file_extension": ".py",
   "mimetype": "text/x-python",
   "name": "python",
   "nbconvert_exporter": "python",
   "pygments_lexer": "ipython2",
   "version": "2.7.6"
  },
  "pycharm": {
   "stem_cell": {
    "cell_type": "raw",
    "source": [],
    "metadata": {
     "collapsed": false
    }
   }
  }
 },
 "nbformat": 4,
 "nbformat_minor": 0
}