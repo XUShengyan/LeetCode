{
 "cells": [
  {
   "cell_type": "markdown",
   "metadata": {
    "collapsed": true,
    "pycharm": {
     "name": "#%% md\n"
    }
   },
   "source": [
    "Given an integer array nums, find the contiguous subarray (containing at least one number) which has the largest sum and return its sum.\n",
    "\n",
    "Example:\n",
    "\n",
    "Input: [-2,1,-3,4,-1,2,1,-5,4],\n",
    "Output: 6\n",
    "Explanation: [4,-1,2,1] has the largest sum = 6.\n",
    "Follow up:\n",
    "\n",
    "If you have figured out the O(n) solution, try coding another solution using the divide and conquer approach, which is more subtle.\n"
   ]
  },
  {
   "cell_type": "code",
   "execution_count": 16,
   "outputs": [
    {
     "name": "stdout",
     "text": [
      "1\n"
     ],
     "output_type": "stream"
    }
   ],
   "source": [
    "class Solution:\n",
    "    def maxSubArray(self, nums:list) -> int:\n",
    "         \n",
    "        if nums:            \n",
    "            for i in range(len(nums)):\n",
    "                curValue = nums[i]\n",
    "                \n",
    "                if i ==0:\n",
    "                    curSum = curValue\n",
    "                    maxSum = nums[0]\n",
    "                else:\n",
    "                    lastSum = curSum\n",
    "                    \n",
    "                    # last sum < 0 then use current value as max Sum\n",
    "                    if lastSum >= 0:                        \n",
    "                        curSum = lastSum +curValue                                \n",
    "                    else:\n",
    "                        curSum = curValue\n",
    "                        \n",
    "                    # judge if sum value has changed   \n",
    "                    if curSum > maxSum:\n",
    "                            maxSum = curSum  \n",
    "            return maxSum\n",
    "        else:\n",
    "            return 0\n",
    "\n",
    "test = Solution()\n",
    "testData = [1,2,-1,-2,-3]\n",
    "testData = [-2,1]\n",
    "print(test.maxSubArray(testData))"
   ],
   "metadata": {
    "collapsed": false,
    "pycharm": {
     "name": "#%%  Greedy algorithm, 52 ms\n",
     "is_executing": false
    }
   }
  },
  {
   "cell_type": "code",
   "execution_count": null,
   "outputs": [],
   "source": [
    "class Solution:\n",
    "    def maxSubArray(self, nums:list) -> int:\n",
    "         #edge case/error handling\n",
    "        if nums:        \n",
    "            valley=0 #tracking lowest point in the graph of rolling sum\n",
    "            ret=nums[0] #tracking global max\n",
    "            s=0 #rolling sum\n",
    "            \n",
    "            for n in nums:\n",
    "                s+=n\n",
    "                ret=max(ret,s-valley)\n",
    "                valley=min(valley,s)\n",
    "        \n",
    "            return ret\n",
    "        else:\n",
    "            return 0\n",
    "\n",
    "test = Solution()\n",
    "testData = [1,2,-1,-2,-3]\n",
    "print(test.maxSubArray(testData))"
   ],
   "metadata": {
    "collapsed": false,
    "pycharm": {
     "name": "#%% Visualizing rolling sum in a graph..easier than Kadane.. Python3 O(n)\n",
     "is_executing": false
    }
   }
  },
  {
   "cell_type": "code",
   "execution_count": null,
   "outputs": [],
   "source": [
    "class Solution:\n",
    "    def maxSubArray(self, nums) -> int:\n",
    "        if not nums:\n",
    "            return 0\n",
    "        # Track 3 variables:\n",
    "        #     1) _sum    : Temporal sum in the array\n",
    "        #     2) min_sum : Lowest sum found in the array \n",
    "        #     3) best_sum: Our target result\n",
    "        # NOTE: The best sum is the highest \"recovery\" from the lowest sum observed, i.e., best_sum = max( _sum - min_sum ) \n",
    "        _sum     = 0\n",
    "        min_sum  = 0\n",
    "        best_sum = float('-inf')\n",
    "        for x in nums:\n",
    "            _sum += x\n",
    "            # Originally I used:\n",
    "            #      1) best_sum = max(best_sum, _sum - min_sum)\n",
    "            #      2) min_sum  = min(min_sum, _sum )\n",
    "            # However, these short statements made the code x3.4 times slower\n",
    "            if ( _sum - min_sum ) > best_sum:\n",
    "                best_sum = _sum - min_sum\n",
    "            if _sum < min_sum:\n",
    "                min_sum  = _sum\n",
    "        #\n",
    "        return best_sum\n",
    "    \n",
    "test = Solution()\n",
    "testData = [1,2,-1,-2,-3]\n",
    "print(test.maxSubArray(testData))\n",
    "\n",
    "\n",
    "\n"
   ],
   "metadata": {
    "collapsed": false,
    "pycharm": {
     "name": "#%% The Python code below tracks 3 simple variables\n",
     "is_executing": false
    }
   }
  }
 ],
 "metadata": {
  "kernelspec": {
   "display_name": "Python 3",
   "language": "python",
   "name": "python3"
  },
  "language_info": {
   "codemirror_mode": {
    "name": "ipython",
    "version": 2
   },
   "file_extension": ".py",
   "mimetype": "text/x-python",
   "name": "python",
   "nbconvert_exporter": "python",
   "pygments_lexer": "ipython2",
   "version": "2.7.6"
  },
  "pycharm": {
   "stem_cell": {
    "cell_type": "raw",
    "source": [],
    "metadata": {
     "collapsed": false
    }
   }
  }
 },
 "nbformat": 4,
 "nbformat_minor": 0
}