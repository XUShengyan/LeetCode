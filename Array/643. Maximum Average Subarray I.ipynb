{
 "cells": [
  {
   "cell_type": "markdown",
   "metadata": {
    "collapsed": true,
    "pycharm": {
     "name": "#%% md\n"
    }
   },
   "source": [
    "Given an array consisting of n integers, \n",
    "find the contiguous subarray of given length k \n",
    "that has the maximum average value.   \n",
    "And you need to output the maximum average value.\n",
    "\n",
    "* Example 1:\n",
    "\n",
    "Input: [1,12,-5,-6,50,3], k = 4  \n",
    "Output: 12.75  \n",
    "Explanation:   \n",
    "Maximum average is (12-5-6+50)/4 = 51/4 = 12.75\n",
    "\n"
   ]
  },
  {
   "cell_type": "markdown",
   "source": [
    "### Brute way\n",
    "**Right, but Time Limit Exceeded**"
   ],
   "metadata": {
    "collapsed": false,
    "pycharm": {
     "name": "#%% md\n"
    }
   }
  },
  {
   "cell_type": "code",
   "execution_count": 9,
   "outputs": [
    {
     "name": "stdout",
     "text": [
      "12.75| 12.75\n",
      "-2| -2.0\n",
      "0| 0.0\n"
     ],
     "output_type": "stream"
    }
   ],
   "source": [
    "class Solution:\n",
    "    def findMaxAverage(self, nums, k: int) -> float:\n",
    "        num_len = len(nums)\n",
    "        for i in range(num_len - k + 1):\n",
    "            temp_sum = 0\n",
    "            for index in range(i,i+k):\n",
    "                temp_sum = temp_sum + nums[index]                \n",
    "            \n",
    "            cur_max_average = temp_sum / k # Not necessary\n",
    "            if i == 0:                    \n",
    "                max_average = cur_max_average\n",
    "            else:\n",
    "                if max_average < cur_max_average:\n",
    "                    max_average = cur_max_average\n",
    "                    \n",
    "        return max_average\n",
    "\n",
    "test = Solution()\n",
    "\n",
    "nums = [1,12,-5,-6,50,3]\n",
    "k= 4               \n",
    "print('12.75|',test.findMaxAverage(nums,k))    \n",
    "\n",
    "nums = [-1,-2,-3,-4,-5]\n",
    "k= 3               \n",
    "print('-2|',test.findMaxAverage(nums,k))\n",
    "\n",
    "nums = [-1,-2,-3,-4, 7]\n",
    "k= 3               \n",
    "print('0|',test.findMaxAverage(nums,k))"
   ],
   "metadata": {
    "collapsed": false,
    "pycharm": {
     "name": "#%% \n",
     "is_executing": false
    }
   }
  },
  {
   "cell_type": "markdown",
   "source": [
    "### Brute way ( Speed up a little)\n",
    "**Right, but Time Limit Exceeded**"
   ],
   "metadata": {
    "collapsed": false,
    "pycharm": {
     "name": "#%% md\n"
    }
   }
  },
  {
   "cell_type": "code",
   "execution_count": 10,
   "outputs": [
    {
     "name": "stdout",
     "text": [
      "12.75| 12.75\n",
      "-2| -2.0\n",
      "0| 0.0\n"
     ],
     "output_type": "stream"
    }
   ],
   "source": [
    "class Solution:\n",
    "    def findMaxAverage(self, nums, k: int) -> float:\n",
    "        num_len = len(nums)\n",
    "        for i in range(num_len - k + 1):\n",
    "            temp_sum = 0\n",
    "            for index in range(i,i+k):\n",
    "                temp_sum = temp_sum + nums[index]       \n",
    "            \n",
    "            if i == 0:                    \n",
    "                max_sum = temp_sum\n",
    "            else:\n",
    "                if max_sum < temp_sum:\n",
    "                    max_sum = temp_sum\n",
    "            max_average = max_sum / k\n",
    "        return max_average\n",
    "\n",
    "test = Solution()\n",
    "\n",
    "nums = [1,12,-5,-6,50,3]\n",
    "k= 4               \n",
    "print('12.75|',test.findMaxAverage(nums,k))    \n",
    "\n",
    "nums = [-1,-2,-3,-4,-5]\n",
    "k= 3               \n",
    "print('-2|',test.findMaxAverage(nums,k))\n",
    "\n",
    "nums = [-1,-2,-3,-4, 7]\n",
    "k= 3               \n",
    "print('0|',test.findMaxAverage(nums,k))\n",
    "\n",
    "\n"
   ],
   "metadata": {
    "collapsed": false,
    "pycharm": {
     "name": "#%%\n",
     "is_executing": false
    }
   }
  },
  {
   "cell_type": "markdown",
   "source": [
    "### Sliding Window \n",
    "### Accept"
   ],
   "metadata": {
    "collapsed": false,
    "pycharm": {
     "name": "#%% md\n"
    }
   }
  },
  {
   "cell_type": "code",
   "execution_count": 12,
   "outputs": [
    {
     "name": "stdout",
     "text": [
      "12.75| 12.75\n",
      "-2| -2.0\n",
      "0| 0.0\n"
     ],
     "output_type": "stream"
    }
   ],
   "source": [
    "class Solution:\n",
    "    def findMaxAverage(self, nums, k: int) -> float:\n",
    "        num_len = len(nums)\n",
    "        temp_sum = sum(nums[0:k])\n",
    "        max_sum = temp_sum\n",
    "        \n",
    "        # Calculate from number k to the end\n",
    "        for i in range(k, num_len):\n",
    "            # every new sum, remove the first one\n",
    "            temp_sum = temp_sum - nums[i-k]\n",
    "            # every new sum, add a new one\n",
    "            temp_sum = temp_sum + nums[i] \n",
    "            \n",
    "            if max_sum < temp_sum:\n",
    "                max_sum = temp_sum\n",
    "        \n",
    "        max_average = max_sum / k\n",
    "        return max_average\n",
    "\n",
    "test = Solution()\n",
    "\n",
    "nums = [1,12,-5,-6,50,3]\n",
    "k= 4               \n",
    "print('12.75|',test.findMaxAverage(nums,k))    \n",
    "\n",
    "nums = [-1,-2,-3,-4,-5]\n",
    "k= 3               \n",
    "print('-2|',test.findMaxAverage(nums,k))\n",
    "\n",
    "nums = [-1,-2,-3,-4, 7]\n",
    "k= 3               \n",
    "print('0|',test.findMaxAverage(nums,k))\n",
    "\n",
    "\n"
   ],
   "metadata": {
    "collapsed": false,
    "pycharm": {
     "name": "#%%\n",
     "is_executing": false
    }
   }
  },
  {
   "cell_type": "markdown",
   "source": [
    "### Testing\n",
    "\n"
   ],
   "metadata": {
    "collapsed": false
   }
  },
  {
   "cell_type": "code",
   "execution_count": 13,
   "outputs": [
    {
     "name": "stdout",
     "text": [
      "[1, 12]\n"
     ],
     "output_type": "stream"
    }
   ],
   "source": [
    "nums = [1,12,-5,-6,50,3]\n",
    "print(nums[0:2])\n"
   ],
   "metadata": {
    "collapsed": false,
    "pycharm": {
     "name": "#%%\n",
     "is_executing": false
    }
   }
  }
 ],
 "metadata": {
  "kernelspec": {
   "display_name": "Python 3",
   "language": "python",
   "name": "python3"
  },
  "language_info": {
   "codemirror_mode": {
    "name": "ipython",
    "version": 2
   },
   "file_extension": ".py",
   "mimetype": "text/x-python",
   "name": "python",
   "nbconvert_exporter": "python",
   "pygments_lexer": "ipython2",
   "version": "2.7.6"
  },
  "pycharm": {
   "stem_cell": {
    "cell_type": "raw",
    "source": [],
    "metadata": {
     "collapsed": false
    }
   }
  }
 },
 "nbformat": 4,
 "nbformat_minor": 0
}