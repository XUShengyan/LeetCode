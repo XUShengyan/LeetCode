{
 "cells": [
  {
   "cell_type": "markdown",
   "metadata": {
    "collapsed": true,
    "pycharm": {
     "name": "#%% md\n"
    }
   },
   "source": [
    "Given an array consisting of n integers, \n",
    "find the contiguous subarray of given length k \n",
    "that has the maximum average value.   \n",
    "And you need to output the maximum average value.\n",
    "\n",
    "* Example 1:\n",
    "\n",
    "Input: [1,12,-5,-6,50,3], k = 4  \n",
    "Output: 12.75  \n",
    "Explanation:   \n",
    "Maximum average is (12-5-6+50)/4 = 51/4 = 12.75\n",
    "\n",
    "\n"
   ]
  }
 ],
 "metadata": {
  "kernelspec": {
   "display_name": "Python 3",
   "language": "python",
   "name": "python3"
  },
  "language_info": {
   "codemirror_mode": {
    "name": "ipython",
    "version": 2
   },
   "file_extension": ".py",
   "mimetype": "text/x-python",
   "name": "python",
   "nbconvert_exporter": "python",
   "pygments_lexer": "ipython2",
   "version": "2.7.6"
  },
  "pycharm": {
   "stem_cell": {
    "cell_type": "raw",
    "source": [],
    "metadata": {
     "collapsed": false
    }
   }
  }
 },
 "nbformat": 4,
 "nbformat_minor": 0
}