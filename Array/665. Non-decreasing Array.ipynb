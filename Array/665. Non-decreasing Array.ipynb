{
 "cells": [
  {
   "cell_type": "markdown",
   "metadata": {
    "collapsed": true,
    "pycharm": {
     "name": "#%% md\n"
    }
   },
   "source": [
    "### Description\n",
    "your task is to check if it could become **non-decreasing**\n",
    "by *modifying at most 1 element* .<br><br>\n",
    "**Example 1**<br>\n",
    "Input: nums = [4,2,3]<br>\n",
    "Output: true<br>\n",
    "Explanation: You could modify the first 4 to 1 to get a non-decreasing array.<br><br>\n",
    "**Example 2**<br>\n",
    "Input: nums = [4,2,1]<br>\n",
    "Output: false<br>\n",
    "Explanation: You can't get a non-decreasing array by modify at most one element.<br>"
   ]
  },
  {
   "cell_type": "code",
   "execution_count": 4,
   "outputs": [
    {
     "name": "stdout",
     "text": [
      "raw: [3, 4, 2, 3] processed False\n"
     ],
     "output_type": "stream"
    }
   ],
   "source": [
    "class Solution:\n",
    "    def checkPossibility_bruteForce(self, nums) -> bool:        \n",
    "         def judgeNonDecressing(nums):\n",
    "            for i in range(len(nums)-1):\n",
    "                if nums[i] > nums[i+1]:\n",
    "                    return False\n",
    "            return True\n",
    "         numsCopy = nums\n",
    "         for i in range(len(nums)):\n",
    "            old_ai = nums[i]\n",
    "            numsCopy[i] = numsCopy[i-1] if i > 0 else float('-inf')\n",
    "            if judgeNonDecressing(numsCopy):\n",
    "                return True\n",
    "            numsCopy[i] = old_ai\n",
    "\n",
    "         return False\n",
    "        \n",
    "    \n",
    "    \n",
    "test = Solution()\n",
    "#test_data = [4,2,1] # False,decreasing\n",
    "#test_data = [4,2,3] # True, Non-decreasing\n",
    "#test_data = [2,2,2] # True\n",
    "#test_data = [2] # True\n",
    "test_data = [3,4,2,3] # False\n",
    "result = test.checkPossibility_bruteForce(test_data)\n",
    "print('raw:',test_data,'processed',result)  "
   ],
   "metadata": {
    "collapsed": false,
    "pycharm": {
     "name": "#%%\n",
     "is_executing": false
    }
   }
  },
  {
   "cell_type": "markdown",
   "source": [
    "Not correct in some sample"
   ],
   "metadata": {
    "collapsed": false,
    "pycharm": {
     "name": "#%% md\n"
    }
   }
  },
  {
   "cell_type": "code",
   "execution_count": 3,
   "outputs": [
    {
     "name": "stdout",
     "text": [
      "raw: [2, 3, 4, 3, 3] processed True\n"
     ],
     "output_type": "stream"
    }
   ],
   "source": [
    "class Solution:\n",
    "  def checkPossibility_gradient(self, nums) -> bool:       \n",
    "    count =0    \n",
    "    for i in range(len(nums)-1):\n",
    "        dif = nums[i+1] - nums[i]\n",
    "        if dif < 0:\n",
    "            count= count+1\n",
    "            for j in range(i+2,len(nums)):\n",
    "                dif = nums[j] -nums[i]\n",
    "                if dif<= -2:\n",
    "                    return False    \n",
    "    return True\n",
    "      \n",
    "test = Solution()               \n",
    "test_data = [3,4,2,3] # False\n",
    "test_data = [2,3,4,1,3] # False\n",
    "test_data = [2,3,4,3,2] # False\n",
    "test_data = [2,3,4,3,3] # True\n",
    "result = test.checkPossibility_gradient(test_data)\n",
    "print('raw:',test_data,'processed',result)           \n",
    "\n"
   ],
   "metadata": {
    "collapsed": false,
    "pycharm": {
     "name": "#%%\n",
     "is_executing": false
    }
   }
  },
  {
   "cell_type": "markdown",
   "source": [
    "### Consider 3 Examples \n",
    "|Num|Example|Change digit| Change to|Description, Bigger:B, Smaller:S|  \n",
    "|:---|:---:|---:|---:|:---:|  \n",
    "|**E1**| 4,2,3 |4| <2, 1 or 2| [ X,S1,...]|    \n",
    "|**E2** |-1,4,2,3|4| -1 or  2| [..., S1, X, B1, ...]|\n",
    "|**E3** |2,3,3,2,4| second 2 |  3 or 4 | [..., B1, X, B2, ...] |\n",
    "\n",
    "### more situation need to consider  \n",
    "|Num|Example| Change digit| Change to|Description|   \n",
    "|:---|:---:|---:|---:|:---:|   \n",
    "|**E4**| [2,3,4,3,3]  | 4 |3|[..., B1, X, B1, ...]|"
   ],
   "metadata": {
    "collapsed": false,
    "pycharm": {
     "name": "#%% md\n"
    }
   }
  },
  {
   "cell_type": "code",
   "execution_count": 23,
   "outputs": [
    {
     "name": "stdout",
     "text": [
      "raw: [3, 4, 2, 3] processed False\n",
      "raw: [2, 3, 4, 1, 3] processed False\n",
      "raw: [2, 3, 4, 3, 2] processed False\n",
      "raw: [-1, 4, 2, 3] processed True\n",
      "raw: [2, 3, 3, 2, 4] processed True\n",
      "raw: [2, 3, 4, 3, 3] processed True\n",
      "raw: [2, 3, 4, 5, 3] processed True\n",
      "raw: [2, 3, 4, 3] processed True\n"
     ],
     "output_type": "stream"
    }
   ],
   "source": [
    "class Solution:\n",
    "  def checkPossibility(self, nums) -> bool:\n",
    "        # Not necessary\n",
    "        nums = nums.copy()\n",
    "        # /Not necessary\n",
    "        \n",
    "        numsLen = len(nums)\n",
    "        if numsLen <= 2:\n",
    "            return True\n",
    "        for i in range(numsLen-1):\n",
    "            if nums[i] > nums[i+1]:\n",
    "                # E1\n",
    "                if i ==0:\n",
    "                    nums[i] = nums[i+1]\n",
    "                    break\n",
    "                # E2 and E4, but if no '=', still correct\n",
    "                elif i != 0 and nums[i-1] <= nums[i+1]:\n",
    "                    nums[i] = nums[i+1]\n",
    "                    break\n",
    "                # E3\n",
    "                elif i != 0 and nums[i-1] > nums[i+1]:\n",
    "                    nums[i+1] = nums[i]\n",
    "                    break\n",
    "        for i in range(numsLen -1):\n",
    "            if nums[i]> nums[i+1]:\n",
    "                return False\n",
    "        return True\n",
    "\n",
    "test = Solution()               \n",
    "test_data = [3,4,2,3] # False\n",
    "result = test.checkPossibility(test_data)\n",
    "print('raw:',test_data,'processed',result)\n",
    "\n",
    "test_data = [2,3,4,1,3] # False\n",
    "result = test.checkPossibility(test_data)\n",
    "print('raw:',test_data,'processed',result)\n",
    "\n",
    "test_data = [2,3,4,3,2] # False\n",
    "result = test.checkPossibility(test_data)\n",
    "print('raw:',test_data,'processed',result) \n",
    "\n",
    "test_data = [-1,4,2,3] # True\n",
    "result = test.checkPossibility(test_data)\n",
    "print('raw:',test_data,'processed',result) \n",
    "\n",
    "test_data = [2,3,3,2,4] # True\n",
    "result = test.checkPossibility(test_data)\n",
    "print('raw:',test_data,'processed',result) \n",
    "\n",
    "test_data = [2,3,4,3,3] # True\n",
    "result = test.checkPossibility(test_data)\n",
    "print('raw:',test_data,'processed',result)   \n",
    "\n",
    "test_data = [2,3,4,5,3] # True\n",
    "result = test.checkPossibility(test_data)\n",
    "print('raw:',test_data,'processed',result)  \n",
    "\n",
    "test_data = [2,3,4,3] # True\n",
    "result = test.checkPossibility(test_data)\n",
    "print('raw:',test_data,'processed',result)  "
   ],
   "metadata": {
    "collapsed": false,
    "pycharm": {
     "name": "#%%\n",
     "is_executing": false
    }
   }
  },
  {
   "cell_type": "markdown",
   "source": [
    "#### This following method is wrong in E4 but accepted in Leetcode"
   ],
   "metadata": {
    "collapsed": false,
    "pycharm": {
     "name": "#%% md\n"
    }
   }
  },
  {
   "cell_type": "code",
   "execution_count": 11,
   "outputs": [
    {
     "name": "stdout",
     "text": [
      "raw: [2, 3, 4, 3, 3] processed False\n",
      "raw: [2, 3, 4, 3] processed False\n"
     ],
     "output_type": "stream"
    }
   ],
   "source": [
    "class Solution:\n",
    "    def checkPossibility(self, nums) -> bool:\n",
    "        numsLen = len(nums)\n",
    "        if numsLen <= 2:\n",
    "            return True\n",
    "        for i in range(numsLen-1):\n",
    "            if nums[i] > nums[i+1]:           \n",
    "                if i ==0:\n",
    "                    nums[i] = nums[i+1]\n",
    "                    break \n",
    "                # E2 and E4, but if no '=', still correct\n",
    "                elif i != 0 and nums[i-1] < nums[i+1]:\n",
    "                    nums[i] = nums[i+1]\n",
    "                    break            \n",
    "                elif i != 0 and nums[i-1] > nums[i+1]:\n",
    "                    nums[i+1] = nums[i]\n",
    "                    break\n",
    "        for i in range(numsLen -1):\n",
    "            if nums[i]> nums[i+1]:\n",
    "                return False\n",
    "        return True\n",
    "    \n",
    "test = Solution()\n",
    "\n",
    "test_data = [2,3,4,3,3] # True\n",
    "result = test.checkPossibility(test_data)\n",
    "print('raw:',test_data,'processed',result) \n",
    "\n",
    "test_data = [2,3,4,3] # True\n",
    "result = test.checkPossibility(test_data)\n",
    "print('raw:',test_data,'processed',result)   "
   ],
   "metadata": {
    "collapsed": false,
    "pycharm": {
     "name": "#%%\n",
     "is_executing": false
    }
   }
  },
  {
   "cell_type": "markdown",
   "source": [
    "### useless Testing\n"
   ],
   "metadata": {
    "collapsed": false,
    "pycharm": {
     "name": "#%% md\n"
    }
   }
  },
  {
   "cell_type": "code",
   "execution_count": 20,
   "outputs": [
    {
     "name": "stdout",
     "text": [
      "Before Run Function: [0, 0, 0]\n",
      "True\n",
      "Before Run Function: [0, 88, 0]\n",
      "Before Run Function: [0, 0, 0]\n",
      "True\n",
      "Before Run Function: [0, 0, 0]\n"
     ],
     "output_type": "stream"
    }
   ],
   "source": [
    "def temp1(num):\n",
    "    num[1] = 88\n",
    "    return True\n",
    "\n",
    "def temp2(num):\n",
    "    tempNum = num.copy()\n",
    "    tempNum [1] = 88\n",
    "    return True\n",
    "\n",
    "number = [0,0,0]\n",
    "print('Before Run Function:', number)\n",
    "print(temp1(number))\n",
    "print('Before Run Function:',number)\n",
    "\n",
    "number = [0,0,0]\n",
    "print('Before Run Function:', number)\n",
    "print(temp2(number))\n",
    "print('Before Run Function:',number)\n"
   ],
   "metadata": {
    "collapsed": false,
    "pycharm": {
     "name": "#%%\n",
     "is_executing": false
    }
   }
  }
 ],
 "metadata": {
  "kernelspec": {
   "display_name": "Python 3",
   "language": "python",
   "name": "python3"
  },
  "language_info": {
   "codemirror_mode": {
    "name": "ipython",
    "version": 2
   },
   "file_extension": ".py",
   "mimetype": "text/x-python",
   "name": "python",
   "nbconvert_exporter": "python",
   "pygments_lexer": "ipython2",
   "version": "2.7.6"
  },
  "pycharm": {
   "stem_cell": {
    "cell_type": "raw",
    "source": [],
    "metadata": {
     "collapsed": false
    }
   }
  }
 },
 "nbformat": 4,
 "nbformat_minor": 0
}