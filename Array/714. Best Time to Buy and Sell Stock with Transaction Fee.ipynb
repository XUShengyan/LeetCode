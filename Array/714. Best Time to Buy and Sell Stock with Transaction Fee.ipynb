{
 "cells": [
  {
   "cell_type": "markdown",
   "metadata": {
    "collapsed": true,
    "pycharm": {
     "name": "#%% md\n"
    }
   },
   "source": [
    "Input: prices = [1, 3, 2, 8, 4, 9], fee = 2  \n",
    "Output: 8  \n",
    "Explanation: The maximum profit can be achieved by:  \n",
    "Buying at prices[0] = 1  \n",
    "Selling at prices[3] = 8  \n",
    "Buying at prices[4] = 4  \n",
    "Selling at prices[5] = 9  \n",
    "The total profit is ((8 - 1) - 2) + ((9 - 4) - 2) = 8.  \n",
    "\n",
    "\n"
   ]
  }
 ],
 "metadata": {
  "kernelspec": {
   "display_name": "Python 3",
   "language": "python",
   "name": "python3"
  },
  "language_info": {
   "codemirror_mode": {
    "name": "ipython",
    "version": 2
   },
   "file_extension": ".py",
   "mimetype": "text/x-python",
   "name": "python",
   "nbconvert_exporter": "python",
   "pygments_lexer": "ipython2",
   "version": "2.7.6"
  },
  "pycharm": {
   "stem_cell": {
    "cell_type": "raw",
    "source": [],
    "metadata": {
     "collapsed": false
    }
   }
  }
 },
 "nbformat": 4,
 "nbformat_minor": 0
}