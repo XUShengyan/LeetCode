{
 "cells": [
  {
   "cell_type": "markdown",
   "metadata": {
    "collapsed": true,
    "pycharm": {
     "name": "#%% md\n"
    }
   },
   "source": [
    "### Description \n",
    "An array is monotonic if it is either monotone \n",
    "*increasing* or monotone *decreasing*."
   ]
  },
  {
   "cell_type": "code",
   "execution_count": 5,
   "outputs": [
    {
     "name": "stdout",
     "text": [
      "[1, 2, 2, 3, 3] True\n",
      "[4, 3, 3, 3, 2] True\n",
      "[1, 2, 2, 3, 1] False\n",
      "[1, 2, 1, 3, 4] False\n"
     ],
     "output_type": "stream"
    }
   ],
   "source": [
    "class Solution:\n",
    "    def isMonotonic(self, A) -> bool:\n",
    "        previousFlag, flag = 0,0\n",
    "        for i in range(0,len(A)-1):\n",
    "            if A[i+1] - A[i] > 0:\n",
    "                flag = 1\n",
    "                if previousFlag == 0:\n",
    "                    previousFlag = flag\n",
    "                else:\n",
    "                    if previousFlag != flag:\n",
    "                        return False\n",
    "            elif A[i+1] - A[i] < 0:\n",
    "                flag = -1\n",
    "                if previousFlag == 0:\n",
    "                    previousFlag = flag\n",
    "                else:\n",
    "                    if previousFlag != flag:\n",
    "                        return False\n",
    "        return True\n",
    "            \n",
    "test = Solution()\n",
    "\n",
    "test_data = [1, 2, 2, 3, 3]\n",
    "print(test_data,test.isMonotonic(test_data))\n",
    "\n",
    "test_data = [4, 3, 3, 3, 2]\n",
    "print(test_data,test.isMonotonic(test_data))\n",
    "\n",
    "test_data = [1, 2, 2, 3, 1]\n",
    "print(test_data,test.isMonotonic(test_data))\n",
    "\n",
    "test_data = [1, 2, 1, 3, 4]\n",
    "print(test_data,test.isMonotonic(test_data))"
   ],
   "metadata": {
    "collapsed": false,
    "pycharm": {
     "name": "#%%\n",
     "is_executing": false
    }
   }
  },
  {
   "cell_type": "code",
   "execution_count": 8,
   "outputs": [
    {
     "name": "stdout",
     "text": [
      "[1, 2, 2, 3, 3] True\n",
      "[4, 3, 3, 3, 2] True\n",
      "[1, 2, 2, 3, 1] False\n",
      "[1, 2, 1, 3, 4] False\n",
      "[2, 2, 2, 2, 2] True\n"
     ],
     "output_type": "stream"
    }
   ],
   "source": [
    "class Solution:\n",
    "    def isMonotonic(self, A) -> bool:\n",
    "        dif = A[len(A)-1]-A[0] \n",
    "        if dif == 0:\n",
    "            flag = 0\n",
    "        elif dif > 0:\n",
    "            flag = 1\n",
    "        elif dif < 0:\n",
    "            flag = -1        \n",
    "  \n",
    "        for i in range(0,len(A)-1):\n",
    "            if (flag ==1) and (A[i+1] - A[i] < 0):\n",
    "                return False\n",
    "            elif (flag == -1) and (A[i+1] - A[i] > 0):\n",
    "                return False\n",
    "            elif (flag == 0) and (A[i+1] - A[i] != 0):\n",
    "                return False\n",
    "        return True\n",
    "    \n",
    "test = Solution()\n",
    "\n",
    "test_data = [1, 2, 2, 3, 3]\n",
    "print(test_data,test.isMonotonic(test_data))\n",
    "\n",
    "test_data = [4, 3, 3, 3, 2]\n",
    "print(test_data,test.isMonotonic(test_data))\n",
    "\n",
    "test_data = [1, 2, 2, 3, 1]\n",
    "print(test_data,test.isMonotonic(test_data))\n",
    "\n",
    "test_data = [1, 2, 1, 3, 4]\n",
    "print(test_data,test.isMonotonic(test_data))\n",
    "\n",
    "test_data = [2, 2, 2, 2, 2]\n",
    "print(test_data,test.isMonotonic(test_data))\n"
   ],
   "metadata": {
    "collapsed": false,
    "pycharm": {
     "name": "#%%\n",
     "is_executing": false
    }
   }
  }
 ],
 "metadata": {
  "kernelspec": {
   "display_name": "Python 3",
   "language": "python",
   "name": "python3"
  },
  "language_info": {
   "codemirror_mode": {
    "name": "ipython",
    "version": 2
   },
   "file_extension": ".py",
   "mimetype": "text/x-python",
   "name": "python",
   "nbconvert_exporter": "python",
   "pygments_lexer": "ipython2",
   "version": "2.7.6"
  },
  "pycharm": {
   "stem_cell": {
    "cell_type": "raw",
    "source": [],
    "metadata": {
     "collapsed": false
    }
   }
  }
 },
 "nbformat": 4,
 "nbformat_minor": 0
}