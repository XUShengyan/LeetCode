{
 "cells": [
  {
   "cell_type": "markdown",
   "metadata": {
    "collapsed": true,
    "pycharm": {
     "name": "#%% md\n"
    }
   },
   "source": [
    "### Description\n",
    "Given a m * n matrix mat of ones (representing soldiers) and zeros (representing civilians), return the indexes of the k weakest rows in the matrix ordered from the weakest to the strongest.\n",
    "\n",
    "A row i is weaker than row j, if the number of soldiers in row i is less than the number of soldiers in row j, or they have the same number of soldiers but i is less than j. Soldiers are always stand in the frontier of a row, that is, always ones may appear first and then zeros."
   ]
  },
  {
   "cell_type": "markdown",
   "source": [
    "### Brute way\n",
    "#### Accept"
   ],
   "metadata": {
    "collapsed": false
   }
  },
  {
   "cell_type": "code",
   "execution_count": 1,
   "outputs": [
    {
     "name": "stdout",
     "text": [
      "answer=[0] [0]\n",
      "[[1, 1, 1, 1, 0, 0], [1, 1, 1, 1, 1, 1], [0, 0, 0, 0, 0, 0]]\n",
      "[2, 0]\n"
     ],
     "output_type": "stream"
    }
   ],
   "source": [
    "class Solution:\n",
    "    def kWeakestRows(self, mat, k: int):\n",
    "        rowSum = [sum(line) for line in mat]\n",
    "        rowSum_sorted=sorted(enumerate(rowSum), key=lambda x:x[1])\n",
    "        ans=[x[0] for x in rowSum_sorted]\n",
    "        return ans[0:k]    \n",
    "    \n",
    "test = Solution()\n",
    "mat = [[1,1,1,1,1,1],[1,1,1,1,1,1],[1,1,1,1,1,1]]\n",
    "k=1\n",
    "print('answer=[0]',test.kWeakestRows(mat,k))\n",
    "\n",
    "mat = [[1,1,1,1,0,0],[1,1,1,1,1,1],[0,0,0,0,0,0]]\n",
    "k=2\n",
    "print(mat)\n",
    "print(test.kWeakestRows(mat,k))"
   ],
   "metadata": {
    "collapsed": false,
    "pycharm": {
     "name": "#%%\n",
     "is_executing": false
    }
   }
  },
  {
   "cell_type": "markdown",
   "source": [
    "### Brute way\n",
    "#### Accept"
   ],
   "metadata": {
    "collapsed": false
   }
  },
  {
   "cell_type": "code",
   "execution_count": 2,
   "outputs": [
    {
     "name": "stdout",
     "text": [
      "answer=[0] [0]\n"
     ],
     "output_type": "stream"
    }
   ],
   "source": [
    "class Solution:\n",
    "    def kWeakestRows(self, mat, k: int):\n",
    "        n = len(mat)\n",
    "        power = [sum(line) for line in mat]\n",
    "        ans = list(range(n))\n",
    "        ans.sort(key=lambda i: (power[i], i))\n",
    "        return ans[0:k]\n",
    "    \n",
    "test = Solution()\n",
    "mat = [[1,1,1,1,1,1],[1,1,1,1,1,1],[1,1,1,1,1,1]]\n",
    "k=1\n",
    "print('answer=[0]',test.kWeakestRows(mat,k))"
   ],
   "metadata": {
    "collapsed": false,
    "pycharm": {
     "name": "#%%\n",
     "is_executing": false
    }
   }
  },
  {
   "cell_type": "markdown",
   "source": [
    "### Binary Search\n",
    "#### Accepted"
   ],
   "metadata": {
    "collapsed": false
   }
  },
  {
   "cell_type": "code",
   "execution_count": 17,
   "outputs": [
    {
     "name": "stdout",
     "text": [
      "answer=[0,2] [0, 2]\n",
      "answer=[0,1] [0, 1]\n",
      "answer=[0] [0]\n"
     ],
     "output_type": "stream"
    }
   ],
   "source": [
    "class Solution:\n",
    "    def kWeakestRows(self, mat, k: int):        \n",
    "        n = len(mat)\n",
    "        rowSum = [0 for i in range(n)]\n",
    "        for i in range(n):            \n",
    "            left,right = 0,len(mat[0])-1\n",
    "            \n",
    "            \n",
    "            if mat[i][left] == 0:\n",
    "                rowSum[i] = 0    \n",
    "                \n",
    "            elif mat[i][right] == 1:\n",
    "                rowSum[i] = right+1\n",
    "                \n",
    "            else:                \n",
    "                while left < right:\n",
    "                    mid = (left + right) //2\n",
    "                    if mat[i][mid] == 1 :\n",
    "                        left = mid + 1\n",
    "                    elif mat[i][mid] == 0 :\n",
    "                        right = mid\n",
    "                rowSum[i] = right\n",
    "                \n",
    "        sum_sorted=sorted(enumerate(rowSum), key=lambda x:x[1])\n",
    "        ans=[x[0] for x in sum_sorted]          \n",
    "        return  ans[0:k]\n",
    "    \n",
    "test = Solution()\n",
    " \n",
    "mat = [[1,0,0,0], [1,1,1,1], [1,0,0,0], [1,0,0,0]] \n",
    "k = 2\n",
    "print('answer=[0,2]',test.kWeakestRows(mat,k))\n",
    "\n",
    "mat = [[1,0],[1,0],[1,0],[1,1]]\n",
    "k = 2\n",
    "print('answer=[0,1]',test.kWeakestRows(mat,k))\n",
    "\n",
    "mat = [[1,1,1,1,1,1],[1,1,1,1,1,1],[1,1,1,1,1,1]]\n",
    "k=1\n",
    "print('answer=[0]',test.kWeakestRows(mat,k))"
   ],
   "metadata": {
    "collapsed": false,
    "pycharm": {
     "name": "#%%\n",
     "is_executing": false
    }
   }
  },
  {
   "cell_type": "code",
   "execution_count": 9,
   "outputs": [
    {
     "name": "stdout",
     "text": [
      "[1, 3, 2]\n",
      "[0, 0, 0, 0, 0]\n"
     ],
     "output_type": "stream"
    }
   ],
   "source": [
    "temp = []\n",
    "temp.append(1)\n",
    "temp.append(1)\n",
    "temp.append(1)\n",
    "temp[2] = 2\n",
    "temp[1] = 3\n",
    "print(temp)\n",
    "\n",
    "temp= [0 for i in range(5)]\n",
    "print(temp)"
   ],
   "metadata": {
    "collapsed": false,
    "pycharm": {
     "name": "#%%\n",
     "is_executing": false
    }
   }
  },
  {
   "cell_type": "code",
   "execution_count": 14,
   "outputs": [
    {
     "name": "stdout",
     "text": [
      "[1, 1, 1, 1, 1, 1]\n",
      "3\n",
      "row: 3\n",
      "col 6\n"
     ],
     "output_type": "stream"
    }
   ],
   "source": [
    "mat = [[1,1,3,1,1,1],[1,1,1,1,1,1],[1,1,1,1,1,1]]\n",
    "print(mat[1])\n",
    "print(mat[0][2])\n",
    "print('row:',len(mat))\n",
    "print('col',len(mat[0]))\n"
   ],
   "metadata": {
    "collapsed": false,
    "pycharm": {
     "name": "#%%\n",
     "is_executing": false
    }
   }
  }
 ],
 "metadata": {
  "kernelspec": {
   "display_name": "Python 3",
   "language": "python",
   "name": "python3"
  },
  "language_info": {
   "codemirror_mode": {
    "name": "ipython",
    "version": 2
   },
   "file_extension": ".py",
   "mimetype": "text/x-python",
   "name": "python",
   "nbconvert_exporter": "python",
   "pygments_lexer": "ipython2",
   "version": "2.7.6"
  },
  "pycharm": {
   "stem_cell": {
    "cell_type": "raw",
    "source": [],
    "metadata": {
     "collapsed": false
    }
   }
  }
 },
 "nbformat": 4,
 "nbformat_minor": 0
}