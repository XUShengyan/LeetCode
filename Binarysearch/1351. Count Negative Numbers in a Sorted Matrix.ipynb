{
 "cells": [
  {
   "cell_type": "markdown",
   "metadata": {
    "collapsed": true,
    "pycharm": {
     "name": "#%% md\n"
    }
   },
   "source": [
    "### Description\n",
    "Given a m * n matrix grid which is sorted in **non-increasing** order both row-wise and column-wise. \n",
    "\n",
    "Return the number of negative numbers in grid.\n",
    "### Example 1:\n",
    "\n",
    "Input: grid = [[4,3,2,-1],[3,2,1,-1],[1,1,-1,-2],[-1,-1,-2,-3]]  \n",
    "Output: 8  \n",
    "Explanation: There are 8 negatives number in the matrix.  \n",
    "\n",
    "\n"
   ]
  },
  {
   "cell_type": "code",
   "execution_count": 5,
   "outputs": [
    {
     "name": "stdout",
     "text": [
      "8\n",
      "0\n",
      "3\n",
      "1\n"
     ],
     "output_type": "stream"
    }
   ],
   "source": [
    "class Solution:\n",
    "    def countNegatives(self, grid) -> int:\n",
    "        rowNum = len(grid)\n",
    "        if not rowNum:\n",
    "            return 0\n",
    "        colNum = len(grid[0])    \n",
    "        \n",
    "        negNumSum = 0\n",
    "        for i in range(rowNum):\n",
    "            if grid[i][0] < 0:\n",
    "                negNumSum = negNumSum +colNum\n",
    "            elif grid[i][colNum-1] >=0:\n",
    "                continue        \n",
    "            else:\n",
    "                # binary search\n",
    "                left = 0\n",
    "                right = colNum -1\n",
    "                while left < right: # important '='\n",
    "                    mid = (left+right) // 2\n",
    "                    midInMatrix = grid[i][mid]\n",
    "                    if midInMatrix == 0 :\n",
    "                        left = mid + 1\n",
    "                    elif midInMatrix > 0 :\n",
    "                        left = mid + 1\n",
    "                    elif midInMatrix < 0 :\n",
    "                        right = mid\n",
    "                #print(i,right)\n",
    "                negNumSum = negNumSum +colNum -right\n",
    "        return  negNumSum\n",
    "    \n",
    "test = Solution()\n",
    "grid = [[4,3,2,-1],[3,2,1,-1],[1,1,-1,-2],[-1,-1,-2,-3]]  \n",
    "print(test.countNegatives(grid))\n",
    "\n",
    "grid = [[3,2],[1,0]]\n",
    "print(test.countNegatives(grid))\n",
    "\n",
    "grid = [[1,-1],[-1,-1]]\n",
    "print(test.countNegatives(grid))\n",
    "\n",
    "grid = [[-1]]\n",
    "print(test.countNegatives(grid))\n"
   ],
   "metadata": {
    "collapsed": false,
    "pycharm": {
     "name": "#%%\n",
     "is_executing": false
    }
   }
  }
 ],
 "metadata": {
  "kernelspec": {
   "display_name": "Python 3",
   "language": "python",
   "name": "python3"
  },
  "language_info": {
   "codemirror_mode": {
    "name": "ipython",
    "version": 2
   },
   "file_extension": ".py",
   "mimetype": "text/x-python",
   "name": "python",
   "nbconvert_exporter": "python",
   "pygments_lexer": "ipython2",
   "version": "2.7.6"
  },
  "pycharm": {
   "stem_cell": {
    "cell_type": "raw",
    "source": [],
    "metadata": {
     "collapsed": false
    }
   }
  }
 },
 "nbformat": 4,
 "nbformat_minor": 0
}