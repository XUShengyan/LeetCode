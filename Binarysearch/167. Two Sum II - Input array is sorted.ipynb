{
 "cells": [
  {
   "cell_type": "markdown",
   "metadata": {
    "collapsed": true,
    "pycharm": {
     "name": "#%% md\n"
    }
   },
   "source": [
    "### Description:\n",
    "Given an array of integers that is already sorted in *ascending* order, \n",
    "find two numbers such that they add up to a specific target number.\n",
    "\n",
    "The function twoSum should return indices of the two numbers such that they add up to the target, \n",
    "where index1 must be less than index2.\n",
    "\n",
    "* Example 1  \n",
    "Input: numbers = [2,7,11,15], target = 9  \n",
    "Output: [1,2]  \n",
    "Explanation: The sum of 2 and 7 is 9. Therefore index1 = 1, index2 = 2."
   ]
  },
  {
   "cell_type": "markdown",
   "source": [
    "### Time Limit exceed\n",
    "        "
   ],
   "metadata": {
    "collapsed": false,
    "pycharm": {
     "name": "#%% md\n"
    }
   }
  },
  {
   "cell_type": "code",
   "source": [
    "class Solution:\n",
    "    def twoSum_brute(self, numbers, target: int):\n",
    "        for index1 in range(len(numbers)-1):\n",
    "            dif = target - numbers[index1]\n",
    "            for index2 in range(index1+1,len(numbers)):\n",
    "                if numbers[index2] == dif:\n",
    "                    return index1+1,index2+1\n",
    "        \n",
    "test = Solution()\n",
    "testData = [2,7,11,15]\n",
    "target = 18\n",
    "print(test.twoSum_brute(testData,target))\n"
   ],
   "metadata": {
    "collapsed": false,
    "pycharm": {
     "name": "#%%\n",
     "is_executing": false
    }
   },
   "execution_count": 1,
   "outputs": [
    {
     "name": "stdout",
     "text": [
      "(2, 3)\n"
     ],
     "output_type": "stream"
    }
   ]
  },
  {
   "cell_type": "markdown",
   "source": [
    "### Binary search"
   ],
   "metadata": {
    "collapsed": false,
    "pycharm": {
     "name": "#%% md\n"
    }
   }
  },
  {
   "cell_type": "code",
   "execution_count": 6,
   "outputs": [
    {
     "name": "stdout",
     "text": [
      "(3, 4)\n"
     ],
     "output_type": "stream"
    }
   ],
   "source": [
    "class Solution:\n",
    "    def twoSum(self, numbers, target: int):\n",
    "        for index1 in range(len(numbers)-1):\n",
    "            dif = target - numbers[index1]\n",
    "            \n",
    "            # Binary search\n",
    "            left, right = index1+1,len(numbers)-1\n",
    "          \n",
    "            while left <= right:\n",
    "                mid = (left + right) // 2\n",
    "                if numbers[mid] == dif:\n",
    "                    index2 = mid\n",
    "                    return index1+1,index2+1\n",
    "                elif numbers[mid] > dif:\n",
    "                    right = mid -1\n",
    "                elif numbers[mid] < dif:\n",
    "                    left = mid +1\n",
    "                    \n",
    "        \n",
    "test = Solution()\n",
    "testData = [2,7,11,15]\n",
    "target = 26\n",
    "print(test.twoSum(testData,target))\n",
    "\n"
   ],
   "metadata": {
    "collapsed": false,
    "pycharm": {
     "name": "#%%\n",
     "is_executing": false
    }
   }
  }
 ],
 "metadata": {
  "kernelspec": {
   "display_name": "Python 3",
   "language": "python",
   "name": "python3"
  },
  "language_info": {
   "codemirror_mode": {
    "name": "ipython",
    "version": 2
   },
   "file_extension": ".py",
   "mimetype": "text/x-python",
   "name": "python",
   "nbconvert_exporter": "python",
   "pygments_lexer": "ipython2",
   "version": "2.7.6"
  },
  "pycharm": {
   "stem_cell": {
    "cell_type": "raw",
    "source": [],
    "metadata": {
     "collapsed": false
    }
   }
  }
 },
 "nbformat": 4,
 "nbformat_minor": 0
}