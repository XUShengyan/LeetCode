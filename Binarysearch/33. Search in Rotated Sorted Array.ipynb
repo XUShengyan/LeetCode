{
 "cells": [
  {
   "cell_type": "markdown",
   "metadata": {
    "collapsed": true,
    "pycharm": {
     "name": "#%% md\n"
    }
   },
   "source": [
    "### Example 1:  \n",
    "\n",
    "Input:   \n",
    "nums = [4,5,6,7,0,1,2],   \n",
    "target = 0 \n",
    " \n",
    "Output: 4  \n",
    "\n",
    "### Example 2:\n",
    "Input:   \n",
    "nums = [4,5,6,7,0,1,2],   \n",
    "target = 3  \n",
    "\n",
    "Output: -1"
   ]
  },
  {
   "cell_type": "markdown",
   "source": [
    "### Using list.index(target)"
   ],
   "metadata": {
    "collapsed": false,
    "pycharm": {
     "name": "#%% md\n"
    }
   }
  },
  {
   "cell_type": "code",
   "execution_count": null,
   "outputs": [],
   "source": [
    "class Solution:\n",
    "    def search(self, nums, target: int) -> int:\n",
    "        try:\n",
    "            targetIndex = nums.index(target)\n",
    "            return targetIndex\n",
    "        except Exception:\n",
    "            return -1\n",
    "\n",
    "test = Solution()\n",
    "\n",
    "nums = [4,5,6,7,0,1,2]\n",
    "target = 0 \n",
    "print(test.search(nums,target))\n",
    "\n",
    "nums = [4,5,6,7,0,1,2]\n",
    "target = 10 \n",
    "print(test.search(nums,target))\n"
   ],
   "metadata": {
    "collapsed": false,
    "pycharm": {
     "name": "#%%\n",
     "is_executing": true
    }
   }
  },
  {
   "cell_type": "markdown",
   "source": [
    " \n",
    "### Sort the list then using binary search "
   ],
   "metadata": {
    "collapsed": false,
    "pycharm": {
     "name": "#%% md\n"
    }
   }
  },
  {
   "cell_type": "code",
   "execution_count": 4,
   "outputs": [
    {
     "name": "stdout",
     "text": [
      "4\n",
      "-1\n",
      "[2, 1] 2 0\n",
      "[2, 1] 1 1\n",
      "0\n",
      "[4, 5, 6, 7, 0, 1, 2] 3 -1\n"
     ],
     "output_type": "stream"
    }
   ],
   "source": [
    "class Solution:\n",
    "    def search(self, nums, target: int) -> int:\n",
    "        left, right = 0, len(nums)-1\n",
    "     \n",
    "        numsIndex_sorted = sorted(enumerate(nums),key=lambda x:x[1])\n",
    "        nums_sorted = [x[1] for x in numsIndex_sorted]\n",
    "        while left <= right:\n",
    "            mid = (left + right)//2\n",
    "            if nums_sorted[mid] == target:\n",
    "                return numsIndex_sorted[mid][0]\n",
    "            elif nums_sorted[mid] > target:\n",
    "                right = mid-1\n",
    "            elif nums_sorted[mid] < target:\n",
    "                left = mid +1\n",
    "        return -1\n",
    "    \n",
    "test = Solution()\n",
    "nums = [4,5,6,7,0,1,2]\n",
    "target = 0 \n",
    "\n",
    "print(test.search(nums,target))\n",
    "\n",
    "nums = [4,5,6,7,0,1,2]\n",
    "target = 9\n",
    "print(test.search(nums,target))\n",
    "\n",
    "nums = [2,1]\n",
    "target = 2\n",
    "print(nums,target,test.search(nums,target))\n",
    "\n",
    "nums = [2,1]\n",
    "target = 1\n",
    "print(nums,target,test.search(nums,target))\n",
    "\n",
    "nums = [1]\n",
    "target = 1\n",
    "print(test.search(nums,target))\n",
    "\n",
    "nums = [4,5,6,7,0,1,2]\n",
    "target=3\n",
    "print(nums,target,test.search(nums,target))\n",
    "\n"
   ],
   "metadata": {
    "collapsed": false,
    "pycharm": {
     "name": "#%%\n",
     "is_executing": false
    }
   }
  },
  {
   "cell_type": "markdown",
   "source": [
    "### Binary search\n",
    "#### Important"
   ],
   "metadata": {
    "collapsed": false,
    "pycharm": {
     "name": "#%% md\n"
    }
   }
  },
  {
   "cell_type": "code",
   "execution_count": null,
   "outputs": [],
   "source": [
    "class Solution:\n",
    "    def search(self, nums, target: int) -> int:\n",
    "        if not nums:\n",
    "            return -1\n",
    "        left, right = 0, len(nums) - 1\n",
    "        while left <= right:\n",
    "            mid = (left + right) // 2\n",
    "            if nums[mid] == target:\n",
    "                return mid\n",
    "            if nums[0] <= nums[mid]:\n",
    "                if nums[0] <= target < nums[mid]:\n",
    "                    right = mid - 1\n",
    "                else:\n",
    "                    left = mid + 1\n",
    "            else:\n",
    "                if nums[mid] < target <= nums[len(nums) - 1]:\n",
    "                    left = mid + 1\n",
    "                else:\n",
    "                    right = mid - 1\n",
    "        return -1\n",
    "    \n",
    "test = Solution()\n",
    "nums = [4,5,6,7,0,1,2]\n",
    "target = 0 \n",
    "\n",
    "print(test.search(nums,target))\n",
    "\n",
    "nums = [4,5,6,7,0,1,2]\n",
    "target = 9\n",
    "print(test.search(nums,target))\n",
    "\n",
    "nums = [2,1]\n",
    "target = 2\n",
    "print(nums,target,test.search(nums,target))\n",
    "\n",
    "nums = [2,1]\n",
    "target = 1\n",
    "print(nums,target,test.search(nums,target))\n",
    "\n",
    "nums = [1]\n",
    "target = 1\n",
    "print(test.search(nums,target))\n",
    "\n",
    "nums = [4,5,6,7,0,1,2]\n",
    "target=3\n",
    "print(nums,target,test.search(nums,target))"
   ],
   "metadata": {
    "collapsed": false,
    "pycharm": {
     "name": "#%%\n"
    }
   }
  },
  {
   "cell_type": "markdown",
   "source": [
    "### Testing"
   ],
   "metadata": {
    "collapsed": false,
    "pycharm": {
     "name": "#%% md\n"
    }
   }
  },
  {
   "cell_type": "code",
   "execution_count": null,
   "outputs": [],
   "source": [
    "nums = [4,5,6,1,2]\n",
    "numsSorted_index = sorted(range(len(nums)),key=lambda x:nums[x])\n",
    "nums_sorted = sorted(enumerate(nums),key=lambda x:x[1])\n",
    "print('raw:    ',nums)\n",
    "print('index:  ',numsSorted_index)\n",
    "print('index:  ',nums_sorted)\n",
    "print('sorted: ',sorted(nums))\n",
    "print('')\n",
    "\n",
    "nums = [4,5,6,1,2,3]\n",
    "numsSorted_index = sorted(range(len(nums)),key=lambda x:nums[x])\n",
    "nums_sorted = sorted(enumerate(nums),key=lambda x:x[1])\n",
    "print('raw:    ',nums)\n",
    "print('index:  ',numsSorted_index)\n",
    "print('index:  ',nums_sorted)\n",
    "print('sorted: ',sorted(nums))\n",
    "print('')\n",
    "\n",
    "nums = [5,3,4]\n",
    "nums_plus = list(enumerate(nums))\n",
    "numsSorted_index = sorted(range(len(nums)),key=lambda x:nums[x])\n",
    "nums_sorted = sorted(nums_plus,key=lambda x:x[1])\n",
    "print('raw:    ',nums)\n",
    "print('index:  ',numsSorted_index)\n",
    "print('index:  ',nums_sorted)\n",
    "print('sorted: ',sorted(nums))"
   ],
   "metadata": {
    "collapsed": false,
    "pycharm": {
     "name": "#%%\n",
     "is_executing": true
    }
   }
  },
  {
   "cell_type": "code",
   "execution_count": null,
   "outputs": [],
   "source": [
    "nums = [5,3,4]\n",
    "nums_plus = list(enumerate(nums))\n",
    "nums_plus_row = nums_plus[1]\n",
    "nums_plus_col = [x[0] for x in nums_plus]\n",
    "print(nums_plus_row)\n",
    "print(nums_plus_col)\n",
    "\n"
   ],
   "metadata": {
    "collapsed": false,
    "pycharm": {
     "name": "#%%\n",
     "is_executing": true
    }
   }
  }
 ],
 "metadata": {
  "kernelspec": {
   "display_name": "Python 3",
   "language": "python",
   "name": "python3"
  },
  "language_info": {
   "codemirror_mode": {
    "name": "ipython",
    "version": 2
   },
   "file_extension": ".py",
   "mimetype": "text/x-python",
   "name": "python",
   "nbconvert_exporter": "python",
   "pygments_lexer": "ipython2",
   "version": "2.7.6"
  },
  "pycharm": {
   "stem_cell": {
    "cell_type": "raw",
    "source": [],
    "metadata": {
     "collapsed": false
    }
   }
  }
 },
 "nbformat": 4,
 "nbformat_minor": 0
}