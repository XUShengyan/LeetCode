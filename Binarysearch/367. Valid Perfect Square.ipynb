{
 "cells": [
  {
   "cell_type": "markdown",
   "metadata": {
    "collapsed": true,
    "pycharm": {
     "name": "#%% md\n"
    }
   },
   "source": [
    "### Description\n",
    "Given a positive integer num, write a function which returns True if num is a perfect square else False.\n",
    "* Example 1:  \n",
    "Input: num = 16  \n",
    "Output: true  \n",
    "\n",
    "* Example 2:  \n",
    "Input: num = 14  \n",
    "Output: false\n",
    "\n"
   ]
  },
  {
   "cell_type": "code",
   "execution_count": 19,
   "outputs": [
    {
     "name": "stdout",
     "text": [
      "4 True\n",
      "16 True\n",
      "9 True\n",
      "7 False\n",
      "6 False\n",
      "1 True\n"
     ],
     "output_type": "stream"
    }
   ],
   "source": [
    "class Solution:\n",
    "    def isPerfectSquare(self, num: int) -> bool:\n",
    "        if num > 1:\n",
    "            left = 1\n",
    "            right = num //2+1\n",
    "        \n",
    "            while left <= right:\n",
    "                mid = (left+right)//2\n",
    "                if mid*mid == num:\n",
    "                    return True\n",
    "                elif mid * mid > num:\n",
    "                    right = mid-1\n",
    "                elif mid * mid < num:\n",
    "                    left = mid+1\n",
    "            return False\n",
    "        elif num ==1:\n",
    "            return True\n",
    "\n",
    "test = Solution()\n",
    "testData = 4\n",
    "print(testData,test.isPerfectSquare(testData))\n",
    "testData = 16\n",
    "print(testData,test.isPerfectSquare(testData))\n",
    "testData = 9\n",
    "print(testData,test.isPerfectSquare(testData))\n",
    "testData = 7\n",
    "print(testData,test.isPerfectSquare(testData))\n",
    "testData = 6\n",
    "print(testData,test.isPerfectSquare(testData))\n",
    "\n",
    "testData = 1\n",
    "print(testData,test.isPerfectSquare(testData))"
   ],
   "metadata": {
    "collapsed": false,
    "pycharm": {
     "name": "#%%\n",
     "is_executing": false
    }
   }
  },
  {
   "cell_type": "code",
   "execution_count": 3,
   "outputs": [
    {
     "name": "stdout",
     "text": [
      "1\n",
      "2\n",
      "3\n"
     ],
     "output_type": "stream"
    }
   ],
   "source": [
    "temp = 2\n",
    "print(temp//2)\n",
    "temp = 5\n",
    "print(temp//2)\n",
    "temp = 6\n",
    "print(temp//2)\n",
    "\n",
    "\n"
   ],
   "metadata": {
    "collapsed": false,
    "pycharm": {
     "name": "#%%\n",
     "is_executing": false
    }
   }
  }
 ],
 "metadata": {
  "kernelspec": {
   "display_name": "Python 3",
   "language": "python",
   "name": "python3"
  },
  "language_info": {
   "codemirror_mode": {
    "name": "ipython",
    "version": 2
   },
   "file_extension": ".py",
   "mimetype": "text/x-python",
   "name": "python",
   "nbconvert_exporter": "python",
   "pygments_lexer": "ipython2",
   "version": "2.7.6"
  },
  "pycharm": {
   "stem_cell": {
    "cell_type": "raw",
    "source": [],
    "metadata": {
     "collapsed": false
    }
   }
  }
 },
 "nbformat": 4,
 "nbformat_minor": 0
}