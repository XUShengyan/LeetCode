{
 "cells": [
  {
   "cell_type": "markdown",
   "metadata": {
    "collapsed": true,
    "pycharm": {
     "name": "#%% md\n"
    }
   },
   "source": [
    "* Example 1:  \n",
    "n = 5  \n",
    "The coins can form the following rows:  \n",
    "¤  \n",
    "¤ ¤  \n",
    "¤ ¤  \n",
    "Because the 3rd row is incomplete, we return 2.\n",
    "\n",
    "\n",
    "* Example 2:  \n",
    "n = 8  \n",
    "The coins can form the following rows:  \n",
    "¤  \n",
    "¤ ¤  \n",
    "¤ ¤ ¤  \n",
    "¤ ¤  \n",
    "Because the 4th row is incomplete, we return 3."
   ]
  },
  {
   "cell_type": "code",
   "execution_count": 2,
   "outputs": [
    {
     "name": "stdout",
     "text": [
      "4 : 2\n",
      "8 : 3\n",
      "16 : 5\n"
     ],
     "output_type": "stream"
    }
   ],
   "source": [
    "class Solution:\n",
    "    def arrangeCoins(self, n: int) -> int:      \n",
    "        left,right = 0,n       \n",
    "        while left <= right:\n",
    "            mid = (left + right) // 2\n",
    "            if mid*(mid+1) == 2 * n:\n",
    "                return mid\n",
    "            elif mid*(mid+1) > 2 * n:\n",
    "                right = mid-1\n",
    "            elif mid*(mid+1) < 2 * n:\n",
    "                left = mid +1\n",
    "        \n",
    "        return right\n",
    "\n",
    "test = Solution()\n",
    "\n",
    "\n",
    "testData = 4\n",
    "print(testData,':',test.arrangeCoins(testData))\n",
    "\n",
    "testData = 8\n",
    "print(testData,':',test.arrangeCoins(testData))\n",
    "\n",
    "testData = 16\n",
    "print(testData,':',test.arrangeCoins(testData))   \n"
   ],
   "metadata": {
    "collapsed": false,
    "pycharm": {
     "name": "#%%\n",
     "is_executing": false
    }
   }
  },
  {
   "cell_type": "code",
   "execution_count": 1,
   "outputs": [
    {
     "name": "stdout",
     "text": [
      "2 : 1\n",
      "4 : 3\n",
      "5 : 2\n",
      "8 : 3\n",
      "16 : 5\n"
     ],
     "output_type": "stream"
    }
   ],
   "source": [
    "# Error\n",
    "class Solution:\n",
    "    def arrangeCoins(self, n: int) -> int:      \n",
    "        left,right = 1,n\n",
    "        if n <2:\n",
    "            return n\n",
    "        else:\n",
    "            while left < right:\n",
    "                mid = (left + right) // 2\n",
    "                if mid*(mid+1) == 2 * n:\n",
    "                    return mid\n",
    "                elif mid*(mid+1) > 2 * n:\n",
    "                    right = mid\n",
    "                elif mid*(mid+1) < 2 * n:\n",
    "                    left = mid+1\n",
    "            \n",
    "            return mid\n",
    "\n",
    "test = Solution()\n",
    "\n",
    "testData = 2\n",
    "print(testData,':',test.arrangeCoins(testData))\n",
    "\n",
    "testData = 4\n",
    "print(testData,':',test.arrangeCoins(testData))\n",
    "\n",
    "testData = 5\n",
    "print(testData,':',test.arrangeCoins(testData))\n",
    "\n",
    "testData = 8\n",
    "print(testData,':',test.arrangeCoins(testData))\n",
    "\n",
    "testData = 16\n",
    "print(testData,':',test.arrangeCoins(testData))      "
   ],
   "metadata": {
    "collapsed": false,
    "pycharm": {
     "name": "#%%\n",
     "is_executing": false
    }
   }
  }
 ],
 "metadata": {
  "kernelspec": {
   "display_name": "Python 3",
   "language": "python",
   "name": "python3"
  },
  "language_info": {
   "codemirror_mode": {
    "name": "ipython",
    "version": 2
   },
   "file_extension": ".py",
   "mimetype": "text/x-python",
   "name": "python",
   "nbconvert_exporter": "python",
   "pygments_lexer": "ipython2",
   "version": "2.7.6"
  },
  "pycharm": {
   "stem_cell": {
    "cell_type": "raw",
    "source": [],
    "metadata": {
     "collapsed": false
    }
   }
  }
 },
 "nbformat": 4,
 "nbformat_minor": 0
}