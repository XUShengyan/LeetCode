{
 "cells": [
  {
   "cell_type": "markdown",
   "metadata": {
    "collapsed": true,
    "pycharm": {
     "name": "#%% md\n"
    }
   },
   "source": [
    "### Description:  \n",
    "Implement pow(x, n), which calculates x raised to the power n (x<sup>n</sup>).  \n",
    "\n",
    "* Example 1:  \n",
    "Input: 2.00000, 10  \n",
    "Output: 1024.00000\n",
    "\n",
    "* Example 2:  \n",
    "Input: 2.00000, **-2**  \n",
    "Output: 0.25000  \n",
    "Explanation: 2-2 = 1/22 = 1/4 = 0.25  "
   ]
  },
  {
   "cell_type": "code",
   "execution_count": 2,
   "outputs": [
    {
     "name": "stdout",
     "text": [
      "0.125\n"
     ],
     "output_type": "stream"
    }
   ],
   "source": [
    "class Solution:\n",
    "    def myPow_brute(self, x: float, n: int) -> float:\n",
    "        if n==0:\n",
    "            return 1\n",
    "        elif n < 0:\n",
    "            n = -n\n",
    "            x = 1/x\n",
    "        result =1.0\n",
    "        for i in range(n):\n",
    "            result = result*x\n",
    "        return result\n",
    "\n",
    "test = Solution()\n",
    "testX = 2\n",
    "testN = -3\n",
    "print(test.myPow_brute(testX,testN))"
   ],
   "metadata": {
    "collapsed": false,
    "pycharm": {
     "name": "#%%\n",
     "is_executing": false
    }
   }
  },
  {
   "cell_type": "markdown",
   "source": [
    "### Binary search\n",
    "* 2<sup>10</sup> = 2<sup>5</sup> * 2<sup>5</sup>  \n",
    "* 2<sup>5</sup> =  2<sup>2</sup> * 2<sup>2</sup> * 2<sup>1</sup>  \n",
    "* 2<sup>2</sup> = 2 * 2\n",
    "  "
   ],
   "metadata": {
    "collapsed": false,
    "pycharm": {
     "name": "#%% md\n"
    }
   }
  },
  {
   "cell_type": "code",
   "execution_count": 12,
   "outputs": [
    {
     "name": "stdout",
     "text": [
      "4\n"
     ],
     "output_type": "stream"
    }
   ],
   "source": [
    "class Solution:\n",
    "    def myPow(self, x: float, n: int) -> float:\n",
    "        def powBasic(x,n):\n",
    "            if n == 0:\n",
    "                return  1\n",
    "            N = n//2\n",
    "            halfN = powBasic(x,N)\n",
    "            if n % 2 == 0:\n",
    "                result = halfN * halfN\n",
    "            else:\n",
    "                result = halfN * halfN * x\n",
    "                \n",
    "            return result\n",
    "        \n",
    "        if n == 0:\n",
    "            return 1\n",
    "        elif n < 0:\n",
    "            n = -n\n",
    "            x = 1/x\n",
    "        result = powBasic(x,n)\n",
    "        return result\n",
    "\n",
    "test = Solution()\n",
    "testX = 2\n",
    "testN = 2\n",
    "print(test.myPow(testX,testN))\n",
    "       "
   ],
   "metadata": {
    "collapsed": false,
    "pycharm": {
     "name": "#%%\n",
     "is_executing": false
    }
   }
  }
 ],
 "metadata": {
  "kernelspec": {
   "display_name": "Python 3",
   "language": "python",
   "name": "python3"
  },
  "language_info": {
   "codemirror_mode": {
    "name": "ipython",
    "version": 2
   },
   "file_extension": ".py",
   "mimetype": "text/x-python",
   "name": "python",
   "nbconvert_exporter": "python",
   "pygments_lexer": "ipython2",
   "version": "2.7.6"
  },
  "pycharm": {
   "stem_cell": {
    "cell_type": "raw",
    "source": [],
    "metadata": {
     "collapsed": false
    }
   }
  }
 },
 "nbformat": 4,
 "nbformat_minor": 0
}