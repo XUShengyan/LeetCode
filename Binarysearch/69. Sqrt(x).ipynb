{
 "cells": [
  {
   "cell_type": "markdown",
   "metadata": {
    "collapsed": true,
    "pycharm": {
     "name": "#%% md\n"
    }
   },
   "source": [
    "* Example 1:  \n",
    "Input: 4  \n",
    "Output: 2\n",
    "\n",
    "* Example 2:\n",
    "Input: 8  \n",
    "Output: 2  \n",
    "Explanation: The square root of 8 is 2.82842..., and since \n",
    "the decimal part is truncated, 2 is returned."
   ]
  },
  {
   "cell_type": "markdown",
   "source": [
    "### Description:  \n"
   ],
   "metadata": {
    "collapsed": false,
    "pycharm": {
     "name": "#%% md\n"
    }
   }
  },
  {
   "cell_type": "code",
   "execution_count": 1,
   "outputs": [
    {
     "name": "stdout",
     "text": [
      "0\n",
      "1\n",
      "2\n"
     ],
     "output_type": "stream"
    }
   ],
   "source": [
    "from  math import ceil \n",
    "class Solution:\n",
    "    def mySqrt(self, x: int) -> int:\n",
    "        center = ceil(x/2)\n",
    "        left, right = 0, center\n",
    "        result = -1 # IPT\n",
    "        \n",
    "        while left <= right:\n",
    "            mid = (left+right) // 2\n",
    "            tempX = mid ** 2\n",
    "            if tempX == x:\n",
    "                result = mid\n",
    "                break           \n",
    "            elif tempX > x:\n",
    "                right = mid - 1\n",
    "            elif tempX < x:\n",
    "                result = mid \n",
    "                left = mid + 1         \n",
    "        return result    \n",
    "    \n",
    "test = Solution()\n",
    "testData = 0\n",
    "print(test.mySqrt(testData))\n",
    "\n",
    "testData = 1\n",
    "print(test.mySqrt(testData))\n",
    "            \n",
    "testData = 4\n",
    "print(test.mySqrt(testData))\n",
    "\n",
    "testData = 8\n",
    "print(test.mySqrt(testData))\n",
    "\n",
    "testData =2147395600\n",
    "print(test.mySqrt(testData))"
   ],
   "metadata": {
    "collapsed": false,
    "pycharm": {
     "name": "#%%\n",
     "is_executing": false
    }
   }
  }
 ],
 "metadata": {
  "kernelspec": {
   "display_name": "Python 3",
   "language": "python",
   "name": "python3"
  },
  "language_info": {
   "codemirror_mode": {
    "name": "ipython",
    "version": 2
   },
   "file_extension": ".py",
   "mimetype": "text/x-python",
   "name": "python",
   "nbconvert_exporter": "python",
   "pygments_lexer": "ipython2",
   "version": "2.7.6"
  },
  "pycharm": {
   "stem_cell": {
    "cell_type": "raw",
    "source": [],
    "metadata": {
     "collapsed": false
    }
   }
  }
 },
 "nbformat": 4,
 "nbformat_minor": 0
}