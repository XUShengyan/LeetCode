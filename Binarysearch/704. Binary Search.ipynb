{
 "cells": [
  {
   "cell_type": "markdown",
   "metadata": {
    "collapsed": true,
    "pycharm": {
     "name": "#%% md\n"
    }
   },
   "source": [
    "### Discription:\n",
    "Given a sorted (in ascending order) integer array nums of n elements and a target value, write a function to search target in nums.   \n",
    "If target exists, then return its index, otherwise return -1.  \n",
    "\n",
    "* Example 1  \n",
    "Input: nums = [-1,0,3,5,9,12], target = 9  \n",
    "Output: 4  \n",
    "Explanation: 9 exists in nums and its index is 4  \n",
    "\n",
    "* Example 2  \n",
    "Input: nums = [-1,0,3,5,9,12], target = 2  \n",
    "Output: -1  \n",
    "Explanation: 2 does not exist in nums so return -1  \n",
    "\n",
    "* You may assume that all elements in nums are **unique**."
   ]
  },
  {
   "cell_type": "code",
   "execution_count": 5,
   "outputs": [
    {
     "name": "stdout",
     "text": [
      "5\n"
     ],
     "output_type": "stream"
    }
   ],
   "source": [
    "class Solution:\n",
    "    def search(self, nums, target: int) -> int:\n",
    "        left, right = 0, len(nums)-1\n",
    "        while left <= right:\n",
    "            mid = (left + right) // 2 \n",
    "            if nums[mid] == target:\n",
    "                return mid\n",
    "            elif nums[mid] > target:\n",
    "                right = mid -1\n",
    "            elif nums[mid] < target:\n",
    "                left = mid + 1\n",
    "        return -1\n",
    "                \n",
    "test = Solution()\n",
    "testData = [-1,0,3,5,9,12]\n",
    "target = 12\n",
    "print(test.search(testData,target))\n",
    "\n"
   ],
   "metadata": {
    "collapsed": false,
    "pycharm": {
     "name": "#%%\n",
     "is_executing": false
    }
   }
  }
 ],
 "metadata": {
  "kernelspec": {
   "display_name": "Python 3",
   "language": "python",
   "name": "python3"
  },
  "language_info": {
   "codemirror_mode": {
    "name": "ipython",
    "version": 2
   },
   "file_extension": ".py",
   "mimetype": "text/x-python",
   "name": "python",
   "nbconvert_exporter": "python",
   "pygments_lexer": "ipython2",
   "version": "2.7.6"
  },
  "pycharm": {
   "stem_cell": {
    "cell_type": "raw",
    "source": [],
    "metadata": {
     "collapsed": false
    }
   }
  }
 },
 "nbformat": 4,
 "nbformat_minor": 0
}