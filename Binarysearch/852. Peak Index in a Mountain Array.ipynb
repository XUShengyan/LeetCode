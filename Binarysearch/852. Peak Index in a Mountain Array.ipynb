{
 "cells": [
  {
   "cell_type": "markdown",
   "metadata": {
    "collapsed": true,
    "pycharm": {
     "name": "#%% md\n"
    }
   },
   "source": [
    "### Peak Index in a Mountain Array\n",
    "* Example 1:  \n",
    "Input: [0,1,0]  \n",
    "Output: 1\n",
    "* Example 2:  \n",
    "Input: [0,2,1,0]  \n",
    "Output: 1\n",
    "\n"
   ]
  },
  {
   "cell_type": "code",
   "execution_count": 1,
   "outputs": [
    {
     "name": "stdout",
     "text": [
      "[0, 1, 2, 4, 0] 3\n",
      "[0, 4, 2, 1, 0] 0\n",
      "[5, 4, 2, 1, 0] 0\n",
      "[0, 1, 2, 1, 0] 1\n"
     ],
     "output_type": "stream"
    }
   ],
   "source": [
    "class Solution:\n",
    "    def peakIndexInMountainArray(self, A) -> int:\n",
    "        left,right = 0, len(A)-1\n",
    "        \n",
    "        # stop while left == right\n",
    "        while left < right:\n",
    "            mid = (left+right)//2\n",
    "            if A[mid] < A[mid+1]:\n",
    "                left = mid + 1\n",
    "            elif A[mid] > A[mid+1]:\n",
    "                right = mid\n",
    "        return right\n",
    "    \n",
    "test = Solution()\n",
    "\n",
    "testData = [0,1,2,4,0]\n",
    "print(testData,test.peakIndexInMountainArray(testData))\n",
    "\n",
    "testData = [0,4,2,1,0]\n",
    "print(testData,test.peakIndexInMountainArray(testData))\n",
    "\n",
    "\n",
    "testData = [5,4,2,1,0]\n",
    "print(testData,test.peakIndexInMountainArray(testData))          \n",
    "            \n",
    "testData = [0,1,2,1,0]\n",
    "print(testData,test.peakIndexInMountainArray(testData))              \n"
   ],
   "metadata": {
    "collapsed": false,
    "pycharm": {
     "name": "#%%\n",
     "is_executing": false
    }
   }
  },
  {
   "cell_type": "code",
   "execution_count": 5,
   "outputs": [
    {
     "name": "stdout",
     "text": [
      "4\n"
     ],
     "output_type": "stream"
    }
   ],
   "source": [
    "print((4+5)//2)\n",
    "\n"
   ],
   "metadata": {
    "collapsed": false,
    "pycharm": {
     "name": "#%%\n",
     "is_executing": false
    }
   }
  }
 ],
 "metadata": {
  "kernelspec": {
   "display_name": "Python 3",
   "language": "python",
   "name": "python3"
  },
  "language_info": {
   "codemirror_mode": {
    "name": "ipython",
    "version": 2
   },
   "file_extension": ".py",
   "mimetype": "text/x-python",
   "name": "python",
   "nbconvert_exporter": "python",
   "pygments_lexer": "ipython2",
   "version": "2.7.6"
  },
  "pycharm": {
   "stem_cell": {
    "cell_type": "raw",
    "source": [],
    "metadata": {
     "collapsed": false
    }
   }
  }
 },
 "nbformat": 4,
 "nbformat_minor": 0
}