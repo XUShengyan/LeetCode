{
 "cells": [
  {
   "cell_type": "markdown",
   "metadata": {
    "collapsed": true,
    "pycharm": {
     "name": "#%% md\n"
    }
   },
   "source": [
    "### Description:\n",
    "There are *2N* people a company is planning to interview.   \n",
    "The cost of flying the i-th person to city A is costs[i][0], \n",
    "and the cost of flying the i-th person to city B is costs[i][1].\n",
    "\n",
    "Return the minimum cost to fly every person to a city such that exactly N people arrive in each city.\n",
    "\n",
    "* Example 1\n",
    "Input: [[10,20],[30,200],[400,50],[30,20]]  \n",
    "\n",
    "|Num| Data | Choice A|Choice B|  \n",
    "|:---:|:--|:---:|:---:| \n",
    "|1|[10,20]|10|~~20~~|\n",
    "|2|[30,200]|30|~~200~~|\n",
    "|3|[400,50]|~~400~~|50|\n",
    "|**4**|[30,20]|~~30~~|20|\n",
    "\n",
    "Output: 110  \n",
    "Explanation:   \n",
    "The first person goes to city A for a cost of 10.\n",
    "The second person goes to city A for a cost of 30.\n",
    "The third person goes to city B for a cost of 50.\n",
    "The fourth person goes to city B for a cost of 20.\n",
    "The total minimum cost is 10 + 30 + 50 + 20 = 110 to have half the people interviewing in each city.\n",
    "\n",
    "|Num| Data | Choice A|Choice B|Dif of A and B|  \n",
    "|:---:|:--|:---:|:---:|:---: |\n",
    "|1|[10,200]|10|~~200~~|190|\n",
    "|2|[30,200]|30|~~200~~|170|\n",
    "|3|[400,50]|~~400~~|50|350|\n",
    "|**4**|[10,20]|~~10~~|20|10|"
   ]
  },
  {
   "cell_type": "code",
   "execution_count": 7,
   "outputs": [
    {
     "name": "stdout",
     "text": [
      "[[30, 20], [10, 20], [30, 200], [400, 50]]\n",
      "290\n",
      "[[10, 20], [30, 200], [400, 50], [10, 220]]\n",
      "310\n"
     ],
     "output_type": "stream"
    }
   ],
   "source": [
    "class Solution:\n",
    "    def twoCitySchedCost(self, costs) -> int:\n",
    "        diff = [costs[i][0]-costs[i][1] for i in range(len(costs))]\n",
    "     \n",
    "        cost_new =sorted(costs,key =lambda x:diff)\n",
    "        print(cost_new)\n",
    "        result = 0 \n",
    "        n = len(costs)//2\n",
    "        for i in range(n):\n",
    "            result = result+costs[i][0] + costs[i + n][1]\n",
    "        return result\n",
    "        \n",
    "\n",
    "test = Solution()\n",
    "testData = [[30,20],[10,20],[30,200],[400,50]]  \n",
    "print(test.twoCitySchedCost(testData))\n",
    "\n",
    "testData = [[10,20],[30,200],[400,50],[10,220]] #110\n",
    "print(test.twoCitySchedCost(testData))"
   ],
   "metadata": {
    "collapsed": false,
    "pycharm": {
     "name": "#%%\n",
     "is_executing": false
    }
   }
  },
  {
   "cell_type": "code",
   "execution_count": 5,
   "outputs": [
    {
     "name": "stdout",
     "text": [
      "110\n",
      "110\n"
     ],
     "output_type": "stream"
    }
   ],
   "source": [
    "# Accept\n",
    "class Solution:\n",
    "    def twoCitySchedCost(self, costs) -> int:\n",
    "        \n",
    "        costs.sort(key = lambda x : x[0] - x[1])\n",
    "        \n",
    "        total = 0\n",
    "        n = len(costs) // 2\n",
    "        # costs [A, B] \n",
    "        for i in range(n):\n",
    "            # Total = total + (A) + （B）\n",
    "            total = total + costs[i][0] + costs[i + n][1]\n",
    "        return total\n",
    "\n",
    "\n",
    "test = Solution()\n",
    "testData = [[10,20],[30,200],[400,50],[30,20]]  \n",
    "print(test.twoCitySchedCost(testData))\n",
    "\n",
    "\n",
    "testData = [[10,20],[30,200],[400,50],[10,220]] #110\n",
    "print(test.twoCitySchedCost(testData))\n"
   ],
   "metadata": {
    "collapsed": false,
    "pycharm": {
     "name": "#%%\n",
     "is_executing": false
    }
   }
  }
 ],
 "metadata": {
  "kernelspec": {
   "display_name": "Python 3",
   "language": "python",
   "name": "python3"
  },
  "language_info": {
   "codemirror_mode": {
    "name": "ipython",
    "version": 2
   },
   "file_extension": ".py",
   "mimetype": "text/x-python",
   "name": "python",
   "nbconvert_exporter": "python",
   "pygments_lexer": "ipython2",
   "version": "2.7.6"
  },
  "pycharm": {
   "stem_cell": {
    "cell_type": "raw",
    "source": [],
    "metadata": {
     "collapsed": false
    }
   }
  }
 },
 "nbformat": 4,
 "nbformat_minor": 0
}