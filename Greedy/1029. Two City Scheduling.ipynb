{
 "cells": [
  {
   "cell_type": "markdown",
   "metadata": {
    "collapsed": true,
    "pycharm": {
     "name": "#%% md\n"
    }
   },
   "source": [
    "### Description:\n",
    "There are *2N* people a company is planning to interview.   \n",
    "The cost of flying the i-th person to city A is costs[i][0], \n",
    "and the cost of flying the i-th person to city B is costs[i][1].\n",
    "\n",
    "Return the minimum cost to fly every person to a city such that exactly N people arrive in each city.\n",
    "\n",
    "* Example 1\n",
    "Input: [[10,20],[30,200],[400,50],[30,20]]  \n",
    "\n",
    "|Num| Data | Choice A|Choice B|  \n",
    "|:---:|:--|:---:|:---:| \n",
    "|1|[10,20]|10|~~20~~|\n",
    "|2|[30,200]|30|~~200~~|\n",
    "|3|[400,50]|~~400~~|50|\n",
    "|**4**|[30,20]|~~30~~|20|\n",
    "\n",
    "Output: 110  \n",
    "Explanation:   \n",
    "The first person goes to city A for a cost of 10.\n",
    "The second person goes to city A for a cost of 30.\n",
    "The third person goes to city B for a cost of 50.\n",
    "The fourth person goes to city B for a cost of 20.\n",
    "The total minimum cost is 10 + 30 + 50 + 20 = 110 to have half the people interviewing in each city.\n",
    "\n",
    "|Num| Data | Choice A|Choice B|Dif of A and B|  \n",
    "|:---:|:--|:---:|:---:|:---: |\n",
    "|1|[10,200]|10|~~200~~|190|\n",
    "|2|[30,200]|30|~~200~~|170|\n",
    "|3|[400,50]|~~400~~|50|350|\n",
    "|**4**|[10,20]|~~10~~|20|10|"
   ]
  },
  {
   "cell_type": "code",
   "execution_count": 75,
   "outputs": [
    {
     "name": "stdout",
     "text": [
      "[[30, 20], [10, 20], [30, 200], [400, 50]]\n",
      "290\n",
      "[[10, 20], [30, 200], [400, 50], [10, 220]]\n",
      "310\n"
     ],
     "output_type": "stream"
    }
   ],
   "source": [
    "class Solution:\n",
    "    def twoCitySchedCost(self, costs) -> int:\n",
    "        diff = [costs[i][0]-costs[i][1] for i in range(len(costs))]\n",
    "     \n",
    "        # cost_new =sorted(costs,key =lambda x:diff[x])\n",
    "        costs.sort(key=lambda x:diff[0])\n",
    "        print(costs)\n",
    "        result = 0 \n",
    "        n = len(costs)//2\n",
    "        for i in range(n):\n",
    "            result = result+costs[i][0] + costs[i + n][1]\n",
    "        return result\n",
    "        \n",
    "\n",
    "test = Solution()\n",
    "testData = [[30,20],[10,20],[30,200],[400,50]]  \n",
    "print(test.twoCitySchedCost(testData))\n",
    "\n",
    "testData = [[10,20],[30,200],[400,50],[10,220]] #110\n",
    "print(test.twoCitySchedCost(testData))"
   ],
   "metadata": {
    "collapsed": false,
    "pycharm": {
     "name": "#%%\n",
     "is_executing": false
    }
   }
  },
  {
   "cell_type": "code",
   "execution_count": 74,
   "outputs": [
    {
     "name": "stdout",
     "text": [
      "110\n",
      "110\n"
     ],
     "output_type": "stream"
    }
   ],
   "source": [
    "# Accept\n",
    "class Solution:\n",
    "    def twoCitySchedCost(self, costs) -> int:\n",
    "        \n",
    "        costs.sort(key = lambda x : x[0] - x[1])\n",
    "        \n",
    "        total = 0\n",
    "        n = len(costs) // 2\n",
    "        # costs [A, B] \n",
    "        for i in range(n):\n",
    "            # Total = total + (A) + （B）\n",
    "            total = total + costs[i][0] + costs[i + n][1]\n",
    "        return total\n",
    "\n",
    "\n",
    "test = Solution()\n",
    "testData = [[10,20],[30,200],[400,50],[30,20]]  \n",
    "print(test.twoCitySchedCost(testData))\n",
    "\n",
    "\n",
    "testData = [[10,20],[30,200],[400,50],[10,220]] #110\n",
    "print(test.twoCitySchedCost(testData))"
   ],
   "metadata": {
    "collapsed": false,
    "pycharm": {
     "name": "#%%\n",
     "is_executing": false
    }
   }
  },
  {
   "cell_type": "markdown",
   "source": [
    "### Using list.sort() and sorted()\n",
    "\n"
   ],
   "metadata": {
    "collapsed": false
   }
  },
  {
   "cell_type": "code",
   "execution_count": 45,
   "outputs": [
    {
     "name": "stdout",
     "text": [
      "[(1, 'A'), (2, 'p'), (3, 'p'), (4, 'l'), (5, 'e'), (6, 's')] \n",
      "\n",
      "[(6, 's'), (5, 'e'), (4, 'l'), (3, 'p'), (2, 'p'), (1, 'A')] \n",
      "\n",
      "[(1, 'A'), (2, 'p'), (3, 'p'), (4, 'l'), (5, 'e'), (6, 's')] \n",
      "\n",
      "[(1, 'A'), (2, 'p'), (3, 'p'), (4, 'l'), (5, 'e'), (6, 's')] \n",
      "\n",
      "[(1, 'A'), (5, 'e'), (4, 'l'), (2, 'p'), (3, 'p'), (6, 's')] \n",
      "\n",
      "(1, 5, 4, 2, 3, 6) \n",
      " ('A', 'e', 'l', 'p', 'p', 's')\n"
     ],
     "output_type": "stream"
    }
   ],
   "source": [
    "A = [1,2,3,4,5,6]\n",
    "B = ['A','p','p','l','e','s']\n",
    "C = [6,5,4,1,2,3]\n",
    " \n",
    "Z = zip(A,B)\n",
    "\n",
    "# sorted\n",
    "Z = sorted(Z,reverse=False)\n",
    "print(Z,'\\n')\n",
    "Z = sorted(Z,reverse=True)\n",
    "print(Z,'\\n')\n",
    "\n",
    "# list.sort()\n",
    "Z.sort()\n",
    "print(Z,'\\n')\n",
    "Z.sort(key= lambda x:x[0])\n",
    "print(Z,'\\n')\n",
    "Z.sort(key= lambda x:x[1])\n",
    "print(Z,'\\n')\n",
    "\n",
    "\n",
    "# unzip\n",
    "A_new,B_new = zip(*Z)\n",
    "print(A_new,'\\n',B_new)\n",
    "\n"
   ],
   "metadata": {
    "collapsed": false,
    "pycharm": {
     "name": "#%%\n",
     "is_executing": false
    }
   }
  },
  {
   "cell_type": "code",
   "execution_count": 73,
   "outputs": [
    {
     "name": "stdout",
     "text": [
      "add row:\n",
      " [[1 2 3]\n",
      " [4 5 6]\n",
      " [7 8 9]\n",
      " [0 0 0]] \n",
      "\n",
      "add col:\n",
      " [[1 2 3 0]\n",
      " [4 5 6 0]\n",
      " [7 8 9 0]] \n",
      "\n"
     ],
     "output_type": "stream"
    }
   ],
   "source": [
    "import numpy as np\n",
    "a = np.array([[1,2,3],[4,5,6],[7,8,9]])\n",
    "b = np.array([[0,0,0]])\n",
    "c = np.r_[a,b]\n",
    "d = np.c_[a,b.T]\n",
    "print('add row:\\n',c,'\\n')\n",
    "print('add col:\\n',d,'\\n')"
   ],
   "metadata": {
    "collapsed": false,
    "pycharm": {
     "name": "#%%\n",
     "is_executing": false
    }
   }
  }
 ],
 "metadata": {
  "kernelspec": {
   "display_name": "Python 3",
   "language": "python",
   "name": "python3"
  },
  "language_info": {
   "codemirror_mode": {
    "name": "ipython",
    "version": 2
   },
   "file_extension": ".py",
   "mimetype": "text/x-python",
   "name": "python",
   "nbconvert_exporter": "python",
   "pygments_lexer": "ipython2",
   "version": "2.7.6"
  },
  "pycharm": {
   "stem_cell": {
    "cell_type": "raw",
    "source": [],
    "metadata": {
     "collapsed": false
    }
   }
  }
 },
 "nbformat": 4,
 "nbformat_minor": 0
}