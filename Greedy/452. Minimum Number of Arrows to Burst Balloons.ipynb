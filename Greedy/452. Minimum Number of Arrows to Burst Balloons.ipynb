{
 "cells": [
  {
   "cell_type": "markdown",
   "metadata": {
    "collapsed": true,
    "pycharm": {
     "name": "#%% md\n"
    }
   },
   "source": [
    "Input: [[10,16], [2,8], [1,6], [7,12]]  \n",
    "\n",
    "Output:2  \n",
    "\n",
    "Explanation:  \n",
    "One way is to shoot one arrow for example at x = 6 (bursting the balloons [2,8] and [1,6]) and another arrow at x = 11 (bursting the other two balloons).\n",
    "\n",
    "\n"
   ]
  },
  {
   "cell_type": "code",
   "execution_count": 5,
   "outputs": [
    {
     "name": "stdout",
     "text": [
      "2\n"
     ],
     "output_type": "stream"
    }
   ],
   "source": [
    "class Solution:\n",
    "    def findMinArrowShots(self, points):\n",
    "        points.sort(key = lambda x:(x[0],x[1]))      \n",
    "        n = len(points)\n",
    "        \n",
    "        if n == 0:\n",
    "            return 0\n",
    "        else:\n",
    "            start = points[0][0]\n",
    "            end = points[0][1]\n",
    "            result = 1\n",
    "            for i in range(1,n):\n",
    "               if end > points[i][1]:\n",
    "                   end = points[i][1]\n",
    "               elif start<points[i][0]:\n",
    "                   start = points[i][0]\n",
    "                   \n",
    "               # need a new arrow    \n",
    "               if start>end:                   \n",
    "                   result = result + 1\n",
    "                   start = points[i][0]\n",
    "                   end = points[i][1]\n",
    "            return result\n",
    "\n",
    "\n",
    "test = Solution()\n",
    "\n",
    "testData = [[10,16], [2,8], [1,6],[7,12]] \n",
    "print(test.findMinArrowShots(testData))"
   ],
   "metadata": {
    "collapsed": false,
    "pycharm": {
     "name": "#%%\n",
     "is_executing": false
    }
   }
  }
 ],
 "metadata": {
  "kernelspec": {
   "display_name": "Python 3",
   "language": "python",
   "name": "python3"
  },
  "language_info": {
   "codemirror_mode": {
    "name": "ipython",
    "version": 2
   },
   "file_extension": ".py",
   "mimetype": "text/x-python",
   "name": "python",
   "nbconvert_exporter": "python",
   "pygments_lexer": "ipython2",
   "version": "2.7.6"
  },
  "pycharm": {
   "stem_cell": {
    "cell_type": "raw",
    "source": [],
    "metadata": {
     "collapsed": false
    }
   }
  }
 },
 "nbformat": 4,
 "nbformat_minor": 0
}