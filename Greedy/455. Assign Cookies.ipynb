{
 "cells": [
  {
   "cell_type": "markdown",
   "metadata": {
    "collapsed": true,
    "pycharm": {
     "name": "#%% md\n"
    }
   },
   "source": [
    "### Description  \n",
    "**Input:** children(with greed factors)， cookies  \n",
    "**Output:** Satisfied number of children  \n",
    "\n",
    "* Example 1:  \n",
    "Input: [1,2,3], [1,1]  \n",
    "Output: 1  \n",
    "*Explanation:*   \n",
    "You have 3 children and 2 cookies. The greed factors of 3 children are 1, 2, 3. \n",
    "And even though you have 2 cookies, since their size is both 1, you could only make the child whose greed factor is 1 content.\n",
    "You need to output 1.\n",
    "\n",
    "* Example 2:  \n",
    "Input: [1,2], [1,2,3]  \n",
    "Output: 2  \n",
    "*Explanation:* You have 2 children and 3 cookies. The greed factors of 2 children are 1, 2. \n",
    "You have 3 cookies and their sizes are big enough to gratify all of the children, \n",
    "You need to output 2."
   ]
  },
  {
   "cell_type": "markdown",
   "source": [
    "Slow version"
   ],
   "metadata": {
    "collapsed": false,
    "pycharm": {
     "name": "#%% md\n"
    }
   }
  },
  {
   "cell_type": "code",
   "execution_count": 11,
   "outputs": [
    {
     "name": "stdout",
     "text": [
      "2\n",
      "1\n",
      "0\n"
     ],
     "output_type": "stream"
    }
   ],
   "source": [
    "class Solution:\n",
    "    def findContentChildren(self, g, s) -> int:\n",
    "        g.sort()\n",
    "        s.sort()\n",
    "        number = 0\n",
    "        for i in range(len(g)):            \n",
    "            if len(s):\n",
    "                # current child won't satisfy with largest size cookie\n",
    "                if g[i] > s[-1]:\n",
    "                    break\n",
    "            else:\n",
    "                # already assign all cookies\n",
    "                break\n",
    "            for j in range(len(s)):\n",
    "                if g[i]<=s[j]:\n",
    "                    number +=1\n",
    "                    s.pop(j)\n",
    "                    break\n",
    "        return number\n",
    "        \n",
    "test = Solution()\n",
    "\n",
    "greedFactor = [7,3,2,1]\n",
    "sizeOfCookie = [1,2]\n",
    "print(test.findContentChildren(greedFactor,sizeOfCookie))\n",
    "\n",
    "\n",
    "greedFactor = [7,3,2,2]\n",
    "sizeOfCookie = [1,2]\n",
    "print(test.findContentChildren(greedFactor,sizeOfCookie))\n",
    "\n",
    "greedFactor = [7,3,2,2]\n",
    "sizeOfCookie = [1,1]\n",
    "print(test.findContentChildren(greedFactor,sizeOfCookie))"
   ],
   "metadata": {
    "collapsed": false,
    "pycharm": {
     "name": "#%%\n",
     "is_executing": false
    }
   }
  },
  {
   "cell_type": "markdown",
   "source": [
    "Faster version"
   ],
   "metadata": {
    "collapsed": false,
    "pycharm": {
     "name": "#%% md\n"
    }
   }
  },
  {
   "cell_type": "code",
   "execution_count": 8,
   "outputs": [
    {
     "name": "stdout",
     "text": [
      "2\n",
      "1\n",
      "0\n"
     ],
     "output_type": "stream"
    }
   ],
   "source": [
    "class Solution:\n",
    "    def findContentChildren(self, g, s) -> int:\n",
    "        g.sort()\n",
    "        s.sort()\n",
    "        i,j,number = 0,0,0\n",
    "        while i < len(g) and j < len(s):\n",
    "            if g[i]<= s[j]:\n",
    "                number += 1\n",
    "                i += 1\n",
    "            j += 1\n",
    "        return number\n",
    "test = Solution()\n",
    "\n",
    "greedFactor = [7,3,2,1]\n",
    "sizeOfCookie = [1,2]\n",
    "print(test.findContentChildren(greedFactor,sizeOfCookie))\n",
    "\n",
    "\n",
    "greedFactor = [7,3,2,2]\n",
    "sizeOfCookie = [1,2]\n",
    "print(test.findContentChildren(greedFactor,sizeOfCookie))\n",
    "\n",
    "greedFactor = [7,3,2,2]\n",
    "sizeOfCookie = [1,1]\n",
    "print(test.findContentChildren(greedFactor,sizeOfCookie))\n"
   ],
   "metadata": {
    "collapsed": false,
    "pycharm": {
     "name": "#%%\n",
     "is_executing": false
    }
   }
  }
 ],
 "metadata": {
  "kernelspec": {
   "display_name": "Python 3",
   "language": "python",
   "name": "python3"
  },
  "language_info": {
   "codemirror_mode": {
    "name": "ipython",
    "version": 2
   },
   "file_extension": ".py",
   "mimetype": "text/x-python",
   "name": "python",
   "nbconvert_exporter": "python",
   "pygments_lexer": "ipython2",
   "version": "2.7.6"
  },
  "pycharm": {
   "stem_cell": {
    "cell_type": "raw",
    "source": [],
    "metadata": {
     "collapsed": false
    }
   }
  }
 },
 "nbformat": 4,
 "nbformat_minor": 0
}