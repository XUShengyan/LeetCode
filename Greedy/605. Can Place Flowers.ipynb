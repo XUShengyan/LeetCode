{
 "cells": [
  {
   "cell_type": "markdown",
   "metadata": {
    "collapsed": true,
    "pycharm": {
     "name": "#%% md\n"
    }
   },
   "source": [
    "### Description:\n",
    "Suppose you have a long flowerbed in which some of the plots are planted and some are not. However, flowers cannot be planted in adjacent plots - they would compete for water and both would die.\n",
    "\n",
    "Given a flowerbed (represented as an array containing 0 and 1, where 0 means empty and 1 means not empty), and a number n, return if n new flowers can be planted in it without violating the no-adjacent-flowers rule.\n",
    "\n",
    "* Example 1:  \n",
    "Input: flowerbed = [1,0,0,0,1], n = 1  \n",
    "Output: True  \n",
    "* Example 2:  \n",
    "Input: flowerbed = [1,0,0,0,1], n = 2  \n",
    "Output: False  \n",
    "\n"
   ]
  },
  {
   "cell_type": "code",
   "execution_count": 7,
   "outputs": [
    {
     "name": "stdout",
     "text": [
      "True\n",
      "False\n",
      "True\n",
      "True\n",
      "True\n",
      "False\n"
     ],
     "output_type": "stream"
    }
   ],
   "source": [
    "class Solution:\n",
    "    def canPlaceFlowers(self, flowerbed, n: int) -> bool:\n",
    "        flowerbedLen = len(flowerbed)\n",
    "        maxPlantNum = 0\n",
    "        \n",
    "        # length larger than 3 \n",
    "        if flowerbedLen>= 3:\n",
    "            if flowerbed[0] == 0 and flowerbed[1]==0:\n",
    "                flowerbed[0]=1\n",
    "                maxPlantNum = maxPlantNum +1\n",
    "                \n",
    "            for i in range(1,flowerbedLen-1):            \n",
    "                if maxPlantNum >= n:\n",
    "                    return True\n",
    "                if flowerbed[i] == 0:\n",
    "                    if flowerbed[i-1]==0 and flowerbed[i+1] ==0:\n",
    "                        flowerbed[i] = 1\n",
    "                        maxPlantNum = maxPlantNum + 1\n",
    "                \n",
    "            if flowerbed[flowerbedLen-1] == 0 and flowerbed[flowerbedLen-2]==0:\n",
    "                flowerbed[flowerbedLen-1]=1\n",
    "                maxPlantNum = maxPlantNum +1\n",
    "                \n",
    "            if maxPlantNum >= n:\n",
    "                return True\n",
    "            elif maxPlantNum < n:\n",
    "                return False\n",
    "            \n",
    "        # length shorter than 3    \n",
    "        elif flowerbedLen < 3:\n",
    "            if n > 1:\n",
    "                return False\n",
    "            for i in range(flowerbedLen):\n",
    "                if flowerbed[i] == 1 and n>0:\n",
    "                    return False\n",
    "            return True\n",
    "                \n",
    "\n",
    "            \n",
    "test = Solution()\n",
    "testData = [1,0,0,0,1]\n",
    "target = 1\n",
    "print(test.canPlaceFlowers(testData,target))\n",
    "\n",
    "testData = [1,0,0,0,1]\n",
    "target = 2\n",
    "print(test.canPlaceFlowers(testData,target))\n",
    "\n",
    "testData = [0,0,0,0,1]\n",
    "target = 2\n",
    "print(test.canPlaceFlowers(testData,target))\n",
    "\n",
    "testData = [1,0,0,0,0]\n",
    "target = 2\n",
    "print(test.canPlaceFlowers(testData,target))\n",
    "\n",
    "testData = [0,0]\n",
    "target = 1\n",
    "print(test.canPlaceFlowers(testData,target))\n",
    "\n",
    "testData = [0,1]\n",
    "target = 1\n",
    "print(test.canPlaceFlowers(testData,target))"
   ],
   "metadata": {
    "collapsed": false,
    "pycharm": {
     "name": "#%%\n",
     "is_executing": false
    }
   }
  },
  {
   "cell_type": "code",
   "execution_count": 5,
   "outputs": [
    {
     "name": "stdout",
     "text": [
      "True\n",
      "False\n",
      "True\n",
      "True\n"
     ],
     "output_type": "stream"
    }
   ],
   "source": [
    "class Solution:\n",
    "   def canPlaceFlowers(self, flowerbed, n):\n",
    "        # For last position, flowerbed: 1, 0, 0, Planted as: 1, 0, 1       \n",
    "       flowerbed.append(0)\n",
    "        # For start position, flowerbed: 0, 0, 1, Planted as: 1, 0, 1\n",
    "       flowerbed.insert(0,0)\n",
    "        \n",
    "       num = 0\n",
    "       res = 0\n",
    "       for i in range(len(flowerbed)):\n",
    "           if flowerbed[i] == 0:\n",
    "               num += 1\n",
    "           else :\n",
    "               num = 0\n",
    "           if num == 3:\n",
    "               res += 1\n",
    "               num = 1\n",
    "       return res>=n\n",
    "\n",
    "\n",
    "test = Solution()\n",
    "testData = [1,0,0,0,1]\n",
    "target = 1\n",
    "print(test.canPlaceFlowers(testData,target))\n",
    "\n",
    "testData = [1,0,0,0,1]\n",
    "target = 2\n",
    "print(test.canPlaceFlowers(testData,target))\n",
    "\n",
    "testData = [0,0,0,0,1]\n",
    "target = 2\n",
    "print(test.canPlaceFlowers(testData,target))\n",
    "\n",
    "testData = [1,0,0,0,0]\n",
    "target = 2\n",
    "print(test.canPlaceFlowers(testData,target))"
   ],
   "metadata": {
    "collapsed": false,
    "pycharm": {
     "name": "#%%\n",
     "is_executing": false
    }
   }
  }
 ],
 "metadata": {
  "kernelspec": {
   "display_name": "Python 3",
   "language": "python",
   "name": "python3"
  },
  "language_info": {
   "codemirror_mode": {
    "name": "ipython",
    "version": 2
   },
   "file_extension": ".py",
   "mimetype": "text/x-python",
   "name": "python",
   "nbconvert_exporter": "python",
   "pygments_lexer": "ipython2",
   "version": "2.7.6"
  },
  "pycharm": {
   "stem_cell": {
    "cell_type": "raw",
    "source": [],
    "metadata": {
     "collapsed": false
    }
   }
  }
 },
 "nbformat": 4,
 "nbformat_minor": 0
}