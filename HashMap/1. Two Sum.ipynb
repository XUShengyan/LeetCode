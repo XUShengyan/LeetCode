{
 "cells": [
  {
   "cell_type": "markdown",
   "metadata": {
    "collapsed": true,
    "pycharm": {
     "name": "#%% md\n"
    }
   },
   "source": [
    "### Method 1\n",
    "### Hash map method\n",
    "# Accept"
   ]
  },
  {
   "cell_type": "code",
   "execution_count": 3,
   "outputs": [
    {
     "name": "stdout",
     "text": [
      "[1, 2]\n",
      "[1, 2]\n"
     ],
     "output_type": "stream"
    }
   ],
   "source": [
    "class Solution:\n",
    "    def twoSum(self, nums, target: int):\n",
    "        \n",
    "        hash_map = {}\n",
    "        for i  in range(len(nums)):\n",
    "            diff = target - nums[i]\n",
    "            hash_map[diff] = i\n",
    "            \n",
    "        for i  in range(len(nums)):\n",
    "            index = hash_map.get(nums[i])\n",
    "            if  index is not None:                \n",
    "                if index != i:\n",
    "                    return [i,index]\n",
    "\n",
    "test = Solution()\n",
    "\n",
    "nums = [2,5,5,11]\n",
    "target =10\n",
    "print(test.twoSum(nums,target))  \n",
    "\n",
    "nums =  [3,4,2] \n",
    "target = 6\n",
    "print(test.twoSum(nums,target))"
   ],
   "metadata": {
    "collapsed": false,
    "pycharm": {
     "name": "#%%\n",
     "is_executing": false
    }
   }
  },
  {
   "cell_type": "markdown",
   "source": [
    "### Method 2"
   ],
   "metadata": {
    "collapsed": false,
    "pycharm": {
     "name": "#%% md\n"
    }
   }
  },
  {
   "cell_type": "code",
   "execution_count": 4,
   "outputs": [
    {
     "name": "stdout",
     "text": [
      "[1, 2]\n",
      "[1, 2]\n"
     ],
     "output_type": "stream"
    }
   ],
   "source": [
    "class Solution:\n",
    "    def twoSum(self, nums, target: int):\n",
    "        hashmap={}\n",
    "        for ind,num in enumerate(nums):\n",
    "            hashmap[num] = ind\n",
    "        for i,num in enumerate(nums):\n",
    "            j = hashmap.get(target - num)\n",
    "            if j is not None and i!=j:\n",
    "                return [i,j]\n",
    "            \n",
    "test = Solution()\n",
    "\n",
    "nums = [2,5,5,11]\n",
    "target =10\n",
    "print(test.twoSum(nums,target))  \n",
    "\n",
    "nums =  [3,4,2] \n",
    "target = 6\n",
    "print(test.twoSum(nums,target))"
   ],
   "metadata": {
    "collapsed": false,
    "pycharm": {
     "name": "#%%\n",
     "is_executing": false
    }
   }
  },
  {
   "cell_type": "markdown",
   "source": [
    "### Method 3"
   ],
   "metadata": {
    "collapsed": false
   }
  },
  {
   "cell_type": "code",
   "execution_count": 18,
   "outputs": [
    {
     "name": "stdout",
     "text": [
      "[1, 2]\n",
      "[1, 2]\n"
     ],
     "output_type": "stream"
    }
   ],
   "source": [
    "class Solution:\n",
    "    def twoSum(self, nums, target: int):\n",
    "        hashset={}\n",
    "        for i in range(len(nums)):\n",
    "            if hashset.get(target-nums[i]) is not None :\n",
    "                return [hashset.get(target-nums[i]),i]\n",
    "            hashset[nums[i]]=i\n",
    "\n",
    "\n",
    "test = Solution()\n",
    "\n",
    "nums = [2,5,5,11]\n",
    "target =10\n",
    "print(test.twoSum(nums,target))  \n",
    "\n",
    "nums =  [3,4,2] \n",
    "target = 6\n",
    "print(test.twoSum(nums,target))\n"
   ],
   "metadata": {
    "collapsed": false,
    "pycharm": {
     "name": "#%%\n",
     "is_executing": false
    }
   }
  },
  {
   "cell_type": "markdown",
   "source": [
    "### Testing"
   ],
   "metadata": {
    "collapsed": false,
    "pycharm": {
     "name": "#%% md\n"
    }
   }
  },
  {
   "cell_type": "code",
   "execution_count": 24,
   "outputs": [
    {
     "name": "stdout",
     "text": [
      "3\n"
     ],
     "output_type": "stream"
    }
   ],
   "source": [
    "nums = [1,2,2,3]\n",
    "dict = {1:2,1:3,2:3}\n",
    "index = dict.get(1)\n",
    "print(index)\n",
    "\n",
    "\n",
    "\n"
   ],
   "metadata": {
    "collapsed": false,
    "pycharm": {
     "name": "#%%\n",
     "is_executing": false
    }
   }
  }
 ],
 "metadata": {
  "kernelspec": {
   "display_name": "Python 3",
   "language": "python",
   "name": "python3"
  },
  "language_info": {
   "codemirror_mode": {
    "name": "ipython",
    "version": 2
   },
   "file_extension": ".py",
   "mimetype": "text/x-python",
   "name": "python",
   "nbconvert_exporter": "python",
   "pygments_lexer": "ipython2",
   "version": "2.7.6"
  },
  "pycharm": {
   "stem_cell": {
    "cell_type": "raw",
    "source": [],
    "metadata": {
     "collapsed": false
    }
   }
  }
 },
 "nbformat": 4,
 "nbformat_minor": 0
}