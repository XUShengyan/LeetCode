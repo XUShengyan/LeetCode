{
 "cells": [
  {
   "cell_type": "markdown",
   "metadata": {
    "collapsed": true,
    "pycharm": {
     "name": "#%% md\n"
    }
   },
   "source": [
    "* Example 1:  \n",
    "Input: 4  \n",
    "Output: 2\n",
    "\n",
    "* Example 2:\n",
    "Input: 8  \n",
    "Output: 2  \n",
    "Explanation: The square root of 8 is 2.82842..., and since \n",
    "the decimal part is truncated, 2 is returned.\n",
    "\n"
   ]
  },
  {
   "cell_type": "markdown",
   "source": [
    "### Description:  \n",
    "x <sup>0.5</sup> = e <sup>(ln x)*0.5</sup>\n",
    "\n",
    "* 2147395600\n",
    "* Wrong output: 46339\n",
    "* Right output；46340"
   ],
   "metadata": {
    "collapsed": false,
    "pycharm": {
     "name": "#%% md\n"
    }
   }
  },
  {
   "cell_type": "code",
   "execution_count": 7,
   "outputs": [
    {
     "name": "stdout",
     "text": [
      "2\n",
      "46340\n"
     ],
     "output_type": "stream"
    }
   ],
   "source": [
    "from math import exp,log\n",
    "class Solution:\n",
    "    def mySqrt(self, x: int) -> int:\n",
    "        if x == 0:\n",
    "            return 0\n",
    "        elif x > 0:\n",
    "            result = int(exp(log(x)*0.5))\n",
    "        if (result+1) **2 <= x:\n",
    "            return result+1\n",
    "        elif result** 2 <= x:\n",
    "            return result\n",
    "            \n",
    "test = Solution()\n",
    "testData = 8\n",
    "print(test.mySqrt(testData))\n",
    "testData =2147395600\n",
    "print(test.mySqrt(testData))"
   ],
   "metadata": {
    "collapsed": false,
    "pycharm": {
     "name": "#%%\n",
     "is_executing": false
    }
   }
  }
 ],
 "metadata": {
  "kernelspec": {
   "display_name": "Python 3",
   "language": "python",
   "name": "python3"
  },
  "language_info": {
   "codemirror_mode": {
    "name": "ipython",
    "version": 2
   },
   "file_extension": ".py",
   "mimetype": "text/x-python",
   "name": "python",
   "nbconvert_exporter": "python",
   "pygments_lexer": "ipython2",
   "version": "2.7.6"
  },
  "pycharm": {
   "stem_cell": {
    "cell_type": "raw",
    "source": [],
    "metadata": {
     "collapsed": false
    }
   }
  }
 },
 "nbformat": 4,
 "nbformat_minor": 0
}